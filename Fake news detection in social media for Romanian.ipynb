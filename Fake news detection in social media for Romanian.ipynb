{
 "cells": [
  {
   "cell_type": "markdown",
   "id": "transparent-fabric",
   "metadata": {},
   "source": [
    "# Importing the necessary modules"
   ]
  },
  {
   "cell_type": "code",
   "execution_count": 126,
   "id": "hybrid-warner",
   "metadata": {},
   "outputs": [],
   "source": [
    "# Utilitaries\n",
    "from csv import reader\n",
    "import re\n",
    "import pandas as pd\n",
    "import zeep\n",
    "# Data preparation and text manipulation\n",
    "import nltk\n",
    "from nltk.corpus import stopwords as stp\n",
    "import nltk.stem.snowball as snowball\n",
    "# Machine learning tools\n",
    "from sklearn.model_selection import train_test_split\n",
    "from tensorflow.keras.preprocessing.text import Tokenizer\n",
    "from tensorflow.keras.preprocessing.sequence import pad_sequences\n",
    "# Machine learning classificators\n",
    "from sklearn.linear_model import PassiveAggressiveClassifier\n",
    "from sklearn.linear_model import SGDClassifier\n",
    "from sklearn.linear_model import LogisticRegression\n",
    "from sklearn.naive_bayes import GaussianNB\n",
    "# Machine learning model metrics\n",
    "from sklearn.metrics import accuracy_score\n",
    "from sklearn.metrics import recall_score\n",
    "from sklearn.metrics import log_loss\n",
    "\n",
    "from sklearn.metrics import plot_precision_recall_curve\n",
    "from sklearn.metrics import PrecisionRecallDisplay\n",
    "from sklearn.metrics import precision_recall_curve\n",
    "\n",
    "from sklearn.metrics import confusion_matrix\n",
    "from sklearn.metrics import ConfusionMatrixDisplay\n",
    "from sklearn.metrics import plot_confusion_matrix"
   ]
  },
  {
   "cell_type": "markdown",
   "id": "conscious-chess",
   "metadata": {},
   "source": [
    "# Reading the corpus"
   ]
  },
  {
   "cell_type": "code",
   "execution_count": 2,
   "id": "colored-american",
   "metadata": {},
   "outputs": [],
   "source": [
    "df = pd.read_csv('corpus.csv')"
   ]
  },
  {
   "cell_type": "code",
   "execution_count": 3,
   "id": "identified-sound",
   "metadata": {},
   "outputs": [
    {
     "data": {
      "text/html": [
       "<div>\n",
       "<style scoped>\n",
       "    .dataframe tbody tr th:only-of-type {\n",
       "        vertical-align: middle;\n",
       "    }\n",
       "\n",
       "    .dataframe tbody tr th {\n",
       "        vertical-align: top;\n",
       "    }\n",
       "\n",
       "    .dataframe thead th {\n",
       "        text-align: right;\n",
       "    }\n",
       "</style>\n",
       "<table border=\"1\" class=\"dataframe\">\n",
       "  <thead>\n",
       "    <tr style=\"text-align: right;\">\n",
       "      <th></th>\n",
       "      <th>author</th>\n",
       "      <th>title</th>\n",
       "      <th>translation</th>\n",
       "      <th>label</th>\n",
       "    </tr>\n",
       "  </thead>\n",
       "  <tbody>\n",
       "    <tr>\n",
       "      <th>76</th>\n",
       "      <td>Eftimie</td>\n",
       "      <td>BOR a cerut 1 miliard de dolari de la NASA ca ...</td>\n",
       "      <td>Echipajul va avea la el o candelă și un busuio...</td>\n",
       "      <td>0</td>\n",
       "    </tr>\n",
       "    <tr>\n",
       "      <th>930</th>\n",
       "      <td>TVR</td>\n",
       "      <td>Ludovic Orban, despre demisie: Am considerat c...</td>\n",
       "      <td>Întrebat dacă preşedintele Klaus Iohannis i-a ...</td>\n",
       "      <td>1</td>\n",
       "    </tr>\n",
       "    <tr>\n",
       "      <th>970</th>\n",
       "      <td>TVR</td>\n",
       "      <td>Alegătorii din  satele izolate vor să nu fie i...</td>\n",
       "      <td>Cândva, pe ulițe se auzeau voci de copii. Acum...</td>\n",
       "      <td>1</td>\n",
       "    </tr>\n",
       "    <tr>\n",
       "      <th>866</th>\n",
       "      <td>TVR</td>\n",
       "      <td>Negocierile pentru noile funcții, pe final. Pr...</td>\n",
       "      <td>Potrivit unor surse, liberalii ar urma să prei...</td>\n",
       "      <td>1</td>\n",
       "    </tr>\n",
       "    <tr>\n",
       "      <th>312</th>\n",
       "      <td>TNR</td>\n",
       "      <td>Costumul de tufiş cu care pândea Arafat români...</td>\n",
       "      <td>„Mi-am dat seama prea târziu că ăla e un om, n...</td>\n",
       "      <td>0</td>\n",
       "    </tr>\n",
       "  </tbody>\n",
       "</table>\n",
       "</div>"
      ],
      "text/plain": [
       "      author                                              title  \\\n",
       "76   Eftimie  BOR a cerut 1 miliard de dolari de la NASA ca ...   \n",
       "930      TVR  Ludovic Orban, despre demisie: Am considerat c...   \n",
       "970      TVR  Alegătorii din  satele izolate vor să nu fie i...   \n",
       "866      TVR  Negocierile pentru noile funcții, pe final. Pr...   \n",
       "312      TNR  Costumul de tufiş cu care pândea Arafat români...   \n",
       "\n",
       "                                           translation  label  \n",
       "76   Echipajul va avea la el o candelă și un busuio...      0  \n",
       "930  Întrebat dacă preşedintele Klaus Iohannis i-a ...      1  \n",
       "970  Cândva, pe ulițe se auzeau voci de copii. Acum...      1  \n",
       "866  Potrivit unor surse, liberalii ar urma să prei...      1  \n",
       "312  „Mi-am dat seama prea târziu că ăla e un om, n...      0  "
      ]
     },
     "execution_count": 3,
     "metadata": {},
     "output_type": "execute_result"
    }
   ],
   "source": [
    "df.sample(5)"
   ]
  },
  {
   "cell_type": "markdown",
   "id": "engaged-spice",
   "metadata": {},
   "source": [
    "# Data preparation"
   ]
  },
  {
   "cell_type": "markdown",
   "id": "swedish-maximum",
   "metadata": {},
   "source": [
    "### Lemmatization\n",
    "_Source: http://nlptools.info.uaic.ro/WebPosRo/_"
   ]
  },
  {
   "cell_type": "code",
   "execution_count": 4,
   "id": "impossible-forty",
   "metadata": {},
   "outputs": [],
   "source": [
    "wsdl = 'http://nlptools.info.uaic.ro/WebPosRo/PosTaggerRoWS?wsdl'"
   ]
  },
  {
   "cell_type": "code",
   "execution_count": 5,
   "id": "convenient-yellow",
   "metadata": {},
   "outputs": [],
   "source": [
    "client = zeep.Client(wsdl=wsdl)"
   ]
  },
  {
   "cell_type": "markdown",
   "id": "coordinate-duration",
   "metadata": {},
   "source": [
    "#### Transforming each article using the POS tagger,tokenizing and filtering the stopwords at the same time"
   ]
  },
  {
   "cell_type": "code",
   "execution_count": 6,
   "id": "portuguese-savannah",
   "metadata": {},
   "outputs": [],
   "source": [
    "lemmatized_articles_xml=[]"
   ]
  },
  {
   "cell_type": "code",
   "execution_count": 7,
   "id": "agricultural-appendix",
   "metadata": {},
   "outputs": [],
   "source": [
    "for article in df['translation']:\n",
    "     lemmatized_articles_xml.append(client.service.parseSentence_XML(article))\n",
    "    "
   ]
  },
  {
   "cell_type": "code",
   "execution_count": 8,
   "id": "residential-royal",
   "metadata": {},
   "outputs": [],
   "source": [
    "# # Saving the articles to save execution time\n",
    "# for article in lemmatized_articles_xml:\n",
    "#     with open('lemmatized_articles','a+') as f:\n",
    "#         f.write(article)\n",
    "#         f.write('\\n')"
   ]
  },
  {
   "cell_type": "code",
   "execution_count": 9,
   "id": "brown-stylus",
   "metadata": {},
   "outputs": [],
   "source": [
    "stopwords = stp.words('romanian')\n",
    "lemmatized_articles_clean=[]\n",
    "for article in lemmatized_articles_xml:\n",
    "    article = article.split('\\n')\n",
    "    lemmas = []\n",
    "    for line in article:\n",
    "        found = re.search('.*LEMMA=\"([A-Za-zăâîșț1-9]*)\".*', line)\n",
    "        if found:\n",
    "            word = found.group(1)\n",
    "            if word not in stopwords:\n",
    "                lemmas.append(word)\n",
    "    lemmatized_articles_clean.append(lemmas)"
   ]
  },
  {
   "cell_type": "markdown",
   "id": "regulated-mirror",
   "metadata": {},
   "source": [
    "#### Adding the lemmatized articles to the corpus"
   ]
  },
  {
   "cell_type": "code",
   "execution_count": 10,
   "id": "identified-lyric",
   "metadata": {},
   "outputs": [],
   "source": [
    "df['lemmatized_articles'] = lemmatized_articles_clean"
   ]
  },
  {
   "cell_type": "code",
   "execution_count": 11,
   "id": "forced-preparation",
   "metadata": {},
   "outputs": [
    {
     "data": {
      "text/html": [
       "<div>\n",
       "<style scoped>\n",
       "    .dataframe tbody tr th:only-of-type {\n",
       "        vertical-align: middle;\n",
       "    }\n",
       "\n",
       "    .dataframe tbody tr th {\n",
       "        vertical-align: top;\n",
       "    }\n",
       "\n",
       "    .dataframe thead th {\n",
       "        text-align: right;\n",
       "    }\n",
       "</style>\n",
       "<table border=\"1\" class=\"dataframe\">\n",
       "  <thead>\n",
       "    <tr style=\"text-align: right;\">\n",
       "      <th></th>\n",
       "      <th>author</th>\n",
       "      <th>title</th>\n",
       "      <th>translation</th>\n",
       "      <th>label</th>\n",
       "      <th>lemmatized_articles</th>\n",
       "    </tr>\n",
       "  </thead>\n",
       "  <tbody>\n",
       "    <tr>\n",
       "      <th>129</th>\n",
       "      <td>Vasile</td>\n",
       "      <td>Un român ambiţios şi-a făcut un pepene acasă d...</td>\n",
       "      <td>„Mai aştept luna plină ca să-i dau viaţă creaţ...</td>\n",
       "      <td>0</td>\n",
       "      <td>[aștepta, lună, plin, viață, creație, sine, lă...</td>\n",
       "    </tr>\n",
       "    <tr>\n",
       "      <th>529</th>\n",
       "      <td>Calin</td>\n",
       "      <td>Colțescu și-a învățat lecția: „Îi urez succes ...</td>\n",
       "      <td>„Am evoluat mult de când iau meditații“, se la...</td>\n",
       "      <td>0</td>\n",
       "      <td>[evolua, lua, meditație, sine, lăuda, Sebastia...</td>\n",
       "    </tr>\n",
       "    <tr>\n",
       "      <th>200</th>\n",
       "      <td>Eftimie</td>\n",
       "      <td>Branșat la contracte cu statul! Dan Bittman va...</td>\n",
       "      <td>„Decizia a fost luată la nivelul ministerului,...</td>\n",
       "      <td>0</td>\n",
       "      <td>[decizie, luat, nivel, minister, ști, băga, no...</td>\n",
       "    </tr>\n",
       "    <tr>\n",
       "      <th>96</th>\n",
       "      <td>Eftimie</td>\n",
       "      <td>Elon Musk, devastat! O pisică spaţială i-a dăr...</td>\n",
       "      <td>China a anunțat că e dispusă să ajute, respect...</td>\n",
       "      <td>0</td>\n",
       "      <td>[China, anunța, dispus, ajuta, respectiv, crea...</td>\n",
       "    </tr>\n",
       "    <tr>\n",
       "      <th>229</th>\n",
       "      <td>Ionut</td>\n",
       "      <td>Andi Moisescu, prins de Olivia Steer cu o șaor...</td>\n",
       "      <td>În consecință, Andi nu mai are voie să meargă ...</td>\n",
       "      <td>0</td>\n",
       "      <td>[andi, voie, merge, român, talent, vrea, parti...</td>\n",
       "    </tr>\n",
       "  </tbody>\n",
       "</table>\n",
       "</div>"
      ],
      "text/plain": [
       "      author                                              title  \\\n",
       "129   Vasile  Un român ambiţios şi-a făcut un pepene acasă d...   \n",
       "529    Calin  Colțescu și-a învățat lecția: „Îi urez succes ...   \n",
       "200  Eftimie  Branșat la contracte cu statul! Dan Bittman va...   \n",
       "96   Eftimie  Elon Musk, devastat! O pisică spaţială i-a dăr...   \n",
       "229    Ionut  Andi Moisescu, prins de Olivia Steer cu o șaor...   \n",
       "\n",
       "                                           translation  label  \\\n",
       "129  „Mai aştept luna plină ca să-i dau viaţă creaţ...      0   \n",
       "529  „Am evoluat mult de când iau meditații“, se la...      0   \n",
       "200  „Decizia a fost luată la nivelul ministerului,...      0   \n",
       "96   China a anunțat că e dispusă să ajute, respect...      0   \n",
       "229  În consecință, Andi nu mai are voie să meargă ...      0   \n",
       "\n",
       "                                   lemmatized_articles  \n",
       "129  [aștepta, lună, plin, viață, creație, sine, lă...  \n",
       "529  [evolua, lua, meditație, sine, lăuda, Sebastia...  \n",
       "200  [decizie, luat, nivel, minister, ști, băga, no...  \n",
       "96   [China, anunța, dispus, ajuta, respectiv, crea...  \n",
       "229  [andi, voie, merge, român, talent, vrea, parti...  "
      ]
     },
     "execution_count": 11,
     "metadata": {},
     "output_type": "execute_result"
    }
   ],
   "source": [
    "df.sample(5)"
   ]
  },
  {
   "cell_type": "markdown",
   "id": "chubby-occupation",
   "metadata": {},
   "source": [
    "#### Stemming"
   ]
  },
  {
   "cell_type": "code",
   "execution_count": 12,
   "id": "specialized-madrid",
   "metadata": {},
   "outputs": [],
   "source": [
    "stemmed_articles = []\n",
    "stemmer = snowball.SnowballStemmer('romanian')\n",
    "\n",
    "for article in df['lemmatized_articles']:\n",
    "    stemmed_words =[]\n",
    "    for word in article:\n",
    "        stemmed_words.append(stemmer.stem(word))\n",
    "        # Appending the string form of the stemmed array because it will\n",
    "        # be needed in the next step\n",
    "    stemmed_articles.append(' '.join(stemmed_words))"
   ]
  },
  {
   "cell_type": "markdown",
   "id": "external-administration",
   "metadata": {},
   "source": [
    "#### Adding the stemmed articles to the corpus"
   ]
  },
  {
   "cell_type": "code",
   "execution_count": 13,
   "id": "passing-teaching",
   "metadata": {},
   "outputs": [],
   "source": [
    "df['stemmed_articles']=stemmed_articles"
   ]
  },
  {
   "cell_type": "code",
   "execution_count": 192,
   "id": "adjusted-killer",
   "metadata": {},
   "outputs": [
    {
     "data": {
      "text/html": [
       "<div>\n",
       "<style scoped>\n",
       "    .dataframe tbody tr th:only-of-type {\n",
       "        vertical-align: middle;\n",
       "    }\n",
       "\n",
       "    .dataframe tbody tr th {\n",
       "        vertical-align: top;\n",
       "    }\n",
       "\n",
       "    .dataframe thead th {\n",
       "        text-align: right;\n",
       "    }\n",
       "</style>\n",
       "<table border=\"1\" class=\"dataframe\">\n",
       "  <thead>\n",
       "    <tr style=\"text-align: right;\">\n",
       "      <th></th>\n",
       "      <th>author</th>\n",
       "      <th>title</th>\n",
       "      <th>translation</th>\n",
       "      <th>label</th>\n",
       "      <th>lemmatized_articles</th>\n",
       "      <th>stemmed_articles</th>\n",
       "    </tr>\n",
       "  </thead>\n",
       "  <tbody>\n",
       "    <tr>\n",
       "      <th>636</th>\n",
       "      <td>TVR</td>\n",
       "      <td>Aproape 60 de mii de persoane au fost imunizat...</td>\n",
       "      <td>44.299 de persoane au fost vaccinate cu prima ...</td>\n",
       "      <td>1</td>\n",
       "      <td>[persoană, vaccinat, doză, doză, primi, persoană]</td>\n",
       "      <td>persoan vaccin doz doz prim persoan</td>\n",
       "    </tr>\n",
       "    <tr>\n",
       "      <th>867</th>\n",
       "      <td>TVR</td>\n",
       "      <td>Florin Cîțu, premier susținut de coaliție: Cre...</td>\n",
       "      <td>„Sunt măsuri care pot fi implementate foarte c...</td>\n",
       "      <td>1</td>\n",
       "      <td>[măsură, putea, implementat, curând, impact, i...</td>\n",
       "      <td>măsur put implement curând impact imed român e...</td>\n",
       "    </tr>\n",
       "    <tr>\n",
       "      <th>369</th>\n",
       "      <td>Eftimie</td>\n",
       "      <td>Ponta se dezvinovățește: „Nu eu, ci mâna lui D...</td>\n",
       "      <td>Ca de obicei, fostul prim-ministru s-a apărat,...</td>\n",
       "      <td>0</td>\n",
       "      <td>[prim, ministru, sine, apăra, spune, faptă, mâ...</td>\n",
       "      <td>prim ministru sin apăr spun fapt mân dumnezeu ...</td>\n",
       "    </tr>\n",
       "    <tr>\n",
       "      <th>147</th>\n",
       "      <td>TNR</td>\n",
       "      <td>Satelitul românesc nu poate fi lansat, că risc...</td>\n",
       "      <td>Biserica se opune ideii ca un obiect artificia...</td>\n",
       "      <td>0</td>\n",
       "      <td>[biserică, sine, opune, idee, obiect, artifici...</td>\n",
       "      <td>biser sin opun ide obiect artificial sta perma...</td>\n",
       "    </tr>\n",
       "    <tr>\n",
       "      <th>924</th>\n",
       "      <td>TVR</td>\n",
       "      <td>Partidele de dreapta care vor forma coaliția d...</td>\n",
       "      <td>Liberalii au stabilit ferm și ministerele la c...</td>\n",
       "      <td>1</td>\n",
       "      <td>[liberal, stabili, ferm, și, minister, renunța]</td>\n",
       "      <td>liberal stabil ferm și minister renunț</td>\n",
       "    </tr>\n",
       "  </tbody>\n",
       "</table>\n",
       "</div>"
      ],
      "text/plain": [
       "      author                                              title  \\\n",
       "636      TVR  Aproape 60 de mii de persoane au fost imunizat...   \n",
       "867      TVR  Florin Cîțu, premier susținut de coaliție: Cre...   \n",
       "369  Eftimie  Ponta se dezvinovățește: „Nu eu, ci mâna lui D...   \n",
       "147      TNR  Satelitul românesc nu poate fi lansat, că risc...   \n",
       "924      TVR  Partidele de dreapta care vor forma coaliția d...   \n",
       "\n",
       "                                           translation  label  \\\n",
       "636  44.299 de persoane au fost vaccinate cu prima ...      1   \n",
       "867  „Sunt măsuri care pot fi implementate foarte c...      1   \n",
       "369  Ca de obicei, fostul prim-ministru s-a apărat,...      0   \n",
       "147  Biserica se opune ideii ca un obiect artificia...      0   \n",
       "924  Liberalii au stabilit ferm și ministerele la c...      1   \n",
       "\n",
       "                                   lemmatized_articles  \\\n",
       "636  [persoană, vaccinat, doză, doză, primi, persoană]   \n",
       "867  [măsură, putea, implementat, curând, impact, i...   \n",
       "369  [prim, ministru, sine, apăra, spune, faptă, mâ...   \n",
       "147  [biserică, sine, opune, idee, obiect, artifici...   \n",
       "924    [liberal, stabili, ferm, și, minister, renunța]   \n",
       "\n",
       "                                      stemmed_articles  \n",
       "636                persoan vaccin doz doz prim persoan  \n",
       "867  măsur put implement curând impact imed român e...  \n",
       "369  prim ministru sin apăr spun fapt mân dumnezeu ...  \n",
       "147  biser sin opun ide obiect artificial sta perma...  \n",
       "924             liberal stabil ferm și minister renunț  "
      ]
     },
     "execution_count": 192,
     "metadata": {},
     "output_type": "execute_result"
    }
   ],
   "source": [
    "df.sample(5)"
   ]
  },
  {
   "cell_type": "markdown",
   "id": "alone-delhi",
   "metadata": {},
   "source": [
    "# Preparation for the Machine Learning training"
   ]
  },
  {
   "cell_type": "markdown",
   "id": "novel-extra",
   "metadata": {},
   "source": [
    "#### Extracting the article labels"
   ]
  },
  {
   "cell_type": "code",
   "execution_count": 15,
   "id": "opposite-phenomenon",
   "metadata": {},
   "outputs": [],
   "source": [
    "label = df.label"
   ]
  },
  {
   "cell_type": "markdown",
   "id": "opening-germany",
   "metadata": {},
   "source": [
    "#### Splitting the dataset"
   ]
  },
  {
   "cell_type": "code",
   "execution_count": 82,
   "id": "induced-sally",
   "metadata": {},
   "outputs": [],
   "source": [
    "X_train,X_test,y_train,y_test=train_test_split(df['stemmed_articles'], label, test_size=0.2,shuffle=True)"
   ]
  },
  {
   "cell_type": "markdown",
   "id": "meaningful-crazy",
   "metadata": {},
   "source": [
    "#### Preparing the tokenizer"
   ]
  },
  {
   "cell_type": "code",
   "execution_count": 83,
   "id": "cosmetic-growth",
   "metadata": {},
   "outputs": [],
   "source": [
    "tokenizer = Tokenizer()\n",
    "tokenizer.fit_on_texts(X_train)"
   ]
  },
  {
   "cell_type": "markdown",
   "id": "decimal-brazil",
   "metadata": {},
   "source": [
    "# Trying different Machine Learning models"
   ]
  },
  {
   "cell_type": "markdown",
   "id": "personalized-bridal",
   "metadata": {},
   "source": [
    "## Bayes Naive"
   ]
  },
  {
   "cell_type": "markdown",
   "id": "excessive-wyoming",
   "metadata": {},
   "source": [
    "### BN with TF-IDF"
   ]
  },
  {
   "cell_type": "code",
   "execution_count": 84,
   "id": "proof-casting",
   "metadata": {},
   "outputs": [],
   "source": [
    "X_train = tokenizer.texts_to_matrix(X_train,mode='tfidf')\n",
    "X_test = tokenizer.texts_to_matrix(X_test,mode='tfidf')"
   ]
  },
  {
   "cell_type": "code",
   "execution_count": 85,
   "id": "swiss-product",
   "metadata": {},
   "outputs": [],
   "source": [
    "##### _After each transformation its necessary to recompute X_train and X_test again."
   ]
  },
  {
   "cell_type": "code",
   "execution_count": 86,
   "id": "catholic-restoration",
   "metadata": {},
   "outputs": [
    {
     "data": {
      "text/plain": [
       "GaussianNB()"
      ]
     },
     "execution_count": 86,
     "metadata": {},
     "output_type": "execute_result"
    }
   ],
   "source": [
    "nb_classifier = GaussianNB()\n",
    "nb_classifier.fit(X_train,y_train)"
   ]
  },
  {
   "cell_type": "code",
   "execution_count": 87,
   "id": "arranged-motivation",
   "metadata": {},
   "outputs": [],
   "source": [
    "y_pred = nb_classifier.predict(X_test)"
   ]
  },
  {
   "cell_type": "code",
   "execution_count": 88,
   "id": "super-consultation",
   "metadata": {},
   "outputs": [
    {
     "name": "stdout",
     "output_type": "stream",
     "text": [
      "Accuracy: 87.25%\n",
      "Recall: 65.22%\n",
      "loss: 4.4\n"
     ]
    }
   ],
   "source": [
    "accuracy=accuracy_score(y_test,y_pred)\n",
    "loss = log_loss(y_test,y_pred)\n",
    "recall = recall_score(y_test,y_pred)\n",
    "print(f'Accuracy: {round(accuracy*100,2)}%\\nRecall: {round(recall*100,2)}%\\nloss: {round(loss,2)}')\n"
   ]
  },
  {
   "cell_type": "markdown",
   "id": "excess-adventure",
   "metadata": {},
   "source": [
    "### BN with Count-Vectorizer"
   ]
  },
  {
   "cell_type": "code",
   "execution_count": 89,
   "id": "committed-rehabilitation",
   "metadata": {},
   "outputs": [],
   "source": [
    "X_train,X_test,y_train,y_test=train_test_split(df['stemmed_articles'], label, test_size=0.2,shuffle=True)"
   ]
  },
  {
   "cell_type": "code",
   "execution_count": 90,
   "id": "geological-activity",
   "metadata": {},
   "outputs": [],
   "source": [
    "X_train = tokenizer.texts_to_matrix(X_train,mode='count')\n",
    "X_test = tokenizer.texts_to_matrix(X_test,mode='count')"
   ]
  },
  {
   "cell_type": "code",
   "execution_count": 91,
   "id": "italic-palace",
   "metadata": {},
   "outputs": [
    {
     "data": {
      "text/plain": [
       "GaussianNB()"
      ]
     },
     "execution_count": 91,
     "metadata": {},
     "output_type": "execute_result"
    }
   ],
   "source": [
    "nb_classifier = GaussianNB()\n",
    "nb_classifier.fit(X_train,y_train)"
   ]
  },
  {
   "cell_type": "code",
   "execution_count": 92,
   "id": "future-scroll",
   "metadata": {},
   "outputs": [],
   "source": [
    "y_pred = nb_classifier.predict(X_test)"
   ]
  },
  {
   "cell_type": "code",
   "execution_count": 93,
   "id": "compound-rebound",
   "metadata": {},
   "outputs": [
    {
     "name": "stdout",
     "output_type": "stream",
     "text": [
      "Accuracy: 84.8%\n",
      "Recall: 61.84%\n",
      "loss: 5.25\n"
     ]
    }
   ],
   "source": [
    "accuracy=accuracy_score(y_test,y_pred)\n",
    "loss = log_loss(y_test,y_pred)\n",
    "recall = recall_score(y_test,y_pred)\n",
    "print(f'Accuracy: {round(accuracy*100,2)}%\\nRecall: {round(recall*100,2)}%\\nloss: {round(loss,2)}')\n"
   ]
  },
  {
   "cell_type": "markdown",
   "id": "acute-crime",
   "metadata": {},
   "source": [
    "## Logistic Regression "
   ]
  },
  {
   "cell_type": "markdown",
   "id": "industrial-emergency",
   "metadata": {},
   "source": [
    "### LR with TF-IDF"
   ]
  },
  {
   "cell_type": "code",
   "execution_count": 94,
   "id": "numerical-maine",
   "metadata": {},
   "outputs": [],
   "source": [
    "X_train,X_test,y_train,y_test=train_test_split(df['stemmed_articles'], label, test_size=0.2,shuffle=True)"
   ]
  },
  {
   "cell_type": "code",
   "execution_count": 95,
   "id": "occupied-silly",
   "metadata": {},
   "outputs": [],
   "source": [
    "X_train = tokenizer.texts_to_matrix(X_train,mode='tfidf')\n",
    "X_test = tokenizer.texts_to_matrix(X_test,mode='tfidf')"
   ]
  },
  {
   "cell_type": "code",
   "execution_count": 96,
   "id": "interior-reality",
   "metadata": {},
   "outputs": [
    {
     "data": {
      "text/plain": [
       "LogisticRegression()"
      ]
     },
     "execution_count": 96,
     "metadata": {},
     "output_type": "execute_result"
    }
   ],
   "source": [
    "lr_classifier = LogisticRegression()\n",
    "lr_classifier.fit(X_train,y_train)"
   ]
  },
  {
   "cell_type": "code",
   "execution_count": 97,
   "id": "juvenile-junction",
   "metadata": {},
   "outputs": [],
   "source": [
    "y_pred = nb_classifier.predict(X_test)"
   ]
  },
  {
   "cell_type": "code",
   "execution_count": 98,
   "id": "another-voluntary",
   "metadata": {},
   "outputs": [
    {
     "name": "stdout",
     "output_type": "stream",
     "text": [
      "Accuracy: 98.04%\n",
      "Recall: 94.74%\n",
      "loss: 0.68\n"
     ]
    }
   ],
   "source": [
    "accuracy=accuracy_score(y_test,y_pred)\n",
    "loss = log_loss(y_test,y_pred)\n",
    "recall = recall_score(y_test,y_pred)\n",
    "print(f'Accuracy: {round(accuracy*100,2)}%\\nRecall: {round(recall*100,2)}%\\nloss: {round(loss,2)}')\n"
   ]
  },
  {
   "cell_type": "markdown",
   "id": "allied-cement",
   "metadata": {},
   "source": [
    "### LR with Count-Vectorizer"
   ]
  },
  {
   "cell_type": "code",
   "execution_count": 99,
   "id": "agreed-department",
   "metadata": {},
   "outputs": [],
   "source": [
    "X_train,X_test,y_train,y_test=train_test_split(df['stemmed_articles'], label, test_size=0.2,shuffle=True)"
   ]
  },
  {
   "cell_type": "code",
   "execution_count": 100,
   "id": "caroline-thong",
   "metadata": {},
   "outputs": [],
   "source": [
    "X_train = tokenizer.texts_to_matrix(X_train,mode='count')\n",
    "X_test = tokenizer.texts_to_matrix(X_test,mode='count')"
   ]
  },
  {
   "cell_type": "code",
   "execution_count": 101,
   "id": "organized-bible",
   "metadata": {},
   "outputs": [
    {
     "data": {
      "text/plain": [
       "LogisticRegression()"
      ]
     },
     "execution_count": 101,
     "metadata": {},
     "output_type": "execute_result"
    }
   ],
   "source": [
    "lr_classifier = LogisticRegression()\n",
    "lr_classifier.fit(X_train,y_train)"
   ]
  },
  {
   "cell_type": "code",
   "execution_count": 102,
   "id": "fatal-bangladesh",
   "metadata": {},
   "outputs": [],
   "source": [
    "y_pred = lr_classifier.predict(X_test)"
   ]
  },
  {
   "cell_type": "code",
   "execution_count": 103,
   "id": "chief-hello",
   "metadata": {},
   "outputs": [
    {
     "name": "stdout",
     "output_type": "stream",
     "text": [
      "Accuracy: 90.2%\n",
      "Recall: 90.54%\n",
      "loss: 3.39\n"
     ]
    }
   ],
   "source": [
    "accuracy=accuracy_score(y_test,y_pred)\n",
    "loss = log_loss(y_test,y_pred)\n",
    "recall = recall_score(y_test,y_pred)\n",
    "print(f'Accuracy: {round(accuracy*100,2)}%\\nRecall: {round(recall*100,2)}%\\nloss: {round(loss,2)}')\n"
   ]
  },
  {
   "cell_type": "markdown",
   "id": "overhead-community",
   "metadata": {},
   "source": [
    "## SGD "
   ]
  },
  {
   "cell_type": "markdown",
   "id": "martial-interface",
   "metadata": {},
   "source": [
    "### SGD with TF-IDF"
   ]
  },
  {
   "cell_type": "code",
   "execution_count": 104,
   "id": "outside-processor",
   "metadata": {},
   "outputs": [],
   "source": [
    "X_train,X_test,y_train,y_test=train_test_split(df['stemmed_articles'], label, test_size=0.2,shuffle=True)"
   ]
  },
  {
   "cell_type": "code",
   "execution_count": 105,
   "id": "pursuant-surprise",
   "metadata": {},
   "outputs": [],
   "source": [
    "X_train = tokenizer.texts_to_matrix(X_train,mode='tfidf')\n",
    "X_test = tokenizer.texts_to_matrix(X_test,mode='tfidf')"
   ]
  },
  {
   "cell_type": "code",
   "execution_count": 106,
   "id": "optimum-traveler",
   "metadata": {},
   "outputs": [
    {
     "data": {
      "text/plain": [
       "SGDClassifier()"
      ]
     },
     "execution_count": 106,
     "metadata": {},
     "output_type": "execute_result"
    }
   ],
   "source": [
    "sgd_classifier = SGDClassifier()\n",
    "sgd_classifier.fit(X_train,y_train)"
   ]
  },
  {
   "cell_type": "code",
   "execution_count": 107,
   "id": "increased-proposition",
   "metadata": {},
   "outputs": [],
   "source": [
    "y_pred = nb_classifier.predict(X_test)"
   ]
  },
  {
   "cell_type": "code",
   "execution_count": 108,
   "id": "forward-maker",
   "metadata": {},
   "outputs": [
    {
     "name": "stdout",
     "output_type": "stream",
     "text": [
      "Accuracy: 94.12%\n",
      "Recall: 83.78%\n",
      "loss: 2.03\n"
     ]
    }
   ],
   "source": [
    "accuracy=accuracy_score(y_test,y_pred)\n",
    "loss = log_loss(y_test,y_pred)\n",
    "recall = recall_score(y_test,y_pred)\n",
    "print(f'Accuracy: {round(accuracy*100,2)}%\\nRecall: {round(recall*100,2)}%\\nloss: {round(loss,2)}')\n"
   ]
  },
  {
   "cell_type": "markdown",
   "id": "particular-network",
   "metadata": {},
   "source": [
    "### SGD with Count-Vectorizer"
   ]
  },
  {
   "cell_type": "code",
   "execution_count": 164,
   "id": "general-indonesian",
   "metadata": {},
   "outputs": [],
   "source": [
    "X_train,X_test,y_train,y_test=train_test_split(df['stemmed_articles'], label, test_size=0.2,shuffle=True)"
   ]
  },
  {
   "cell_type": "code",
   "execution_count": 165,
   "id": "express-standard",
   "metadata": {},
   "outputs": [],
   "source": [
    "X_train = tokenizer.texts_to_matrix(X_train,mode='count')\n",
    "X_test = tokenizer.texts_to_matrix(X_test,mode='count')"
   ]
  },
  {
   "cell_type": "code",
   "execution_count": 166,
   "id": "superb-thirty",
   "metadata": {},
   "outputs": [
    {
     "data": {
      "text/plain": [
       "SGDClassifier()"
      ]
     },
     "execution_count": 166,
     "metadata": {},
     "output_type": "execute_result"
    }
   ],
   "source": [
    "sgd_classifier = SGDClassifier()\n",
    "sgd_classifier.fit(X_train,y_train)"
   ]
  },
  {
   "cell_type": "code",
   "execution_count": 167,
   "id": "democratic-optimum",
   "metadata": {},
   "outputs": [],
   "source": [
    "y_pred = lr_classifier.predict(X_test)"
   ]
  },
  {
   "cell_type": "code",
   "execution_count": 168,
   "id": "respected-control",
   "metadata": {},
   "outputs": [
    {
     "name": "stdout",
     "output_type": "stream",
     "text": [
      "Accuracy: 99.02%\n",
      "Recall: 98.53%\n",
      "loss: 0.34\n"
     ]
    }
   ],
   "source": [
    "accuracy=accuracy_score(y_test,y_pred)\n",
    "loss = log_loss(y_test,y_pred)\n",
    "recall = recall_score(y_test,y_pred)\n",
    "print(f'Accuracy: {round(accuracy*100,2)}%\\nRecall: {round(recall*100,2)}%\\nloss: {round(loss,2)}')\n"
   ]
  },
  {
   "cell_type": "markdown",
   "id": "equal-skiing",
   "metadata": {},
   "source": [
    "## Passive Agressive Classifier"
   ]
  },
  {
   "cell_type": "markdown",
   "id": "happy-palestine",
   "metadata": {},
   "source": [
    "### PAC with TF-IDF"
   ]
  },
  {
   "cell_type": "code",
   "execution_count": 114,
   "id": "found-horizon",
   "metadata": {},
   "outputs": [],
   "source": [
    "X_train,X_test,y_train,y_test=train_test_split(df['stemmed_articles'], label, test_size=0.2,shuffle=True)"
   ]
  },
  {
   "cell_type": "code",
   "execution_count": 115,
   "id": "federal-wallace",
   "metadata": {},
   "outputs": [],
   "source": [
    "X_train = tokenizer.texts_to_matrix(X_train,mode='tfidf')\n",
    "X_test = tokenizer.texts_to_matrix(X_test,mode='tfidf')"
   ]
  },
  {
   "cell_type": "code",
   "execution_count": 116,
   "id": "tracked-antique",
   "metadata": {},
   "outputs": [
    {
     "data": {
      "text/plain": [
       "PassiveAggressiveClassifier()"
      ]
     },
     "execution_count": 116,
     "metadata": {},
     "output_type": "execute_result"
    }
   ],
   "source": [
    "pac_classifier = PassiveAggressiveClassifier()\n",
    "pac_classifier.fit(X_train,y_train)"
   ]
  },
  {
   "cell_type": "code",
   "execution_count": 117,
   "id": "verbal-cycle",
   "metadata": {},
   "outputs": [],
   "source": [
    "y_pred = nb_classifier.predict(X_test)"
   ]
  },
  {
   "cell_type": "code",
   "execution_count": 118,
   "id": "talented-northern",
   "metadata": {},
   "outputs": [
    {
     "name": "stdout",
     "output_type": "stream",
     "text": [
      "Accuracy: 98.04%\n",
      "Recall: 95.06%\n",
      "loss: 0.68\n"
     ]
    }
   ],
   "source": [
    "accuracy=accuracy_score(y_test,y_pred)\n",
    "loss = log_loss(y_test,y_pred)\n",
    "recall = recall_score(y_test,y_pred)\n",
    "print(f'Accuracy: {round(accuracy*100,2)}%\\nRecall: {round(recall*100,2)}%\\nloss: {round(loss,2)}')\n"
   ]
  },
  {
   "cell_type": "markdown",
   "id": "loose-medication",
   "metadata": {},
   "source": [
    "### PAC with Count-Vectorizer"
   ]
  },
  {
   "cell_type": "code",
   "execution_count": 202,
   "id": "comparative-scope",
   "metadata": {},
   "outputs": [],
   "source": [
    "X_train,X_test,y_train,y_test=train_test_split(df['stemmed_articles'], label, test_size=0.2,shuffle=True)"
   ]
  },
  {
   "cell_type": "code",
   "execution_count": 120,
   "id": "stylish-bookmark",
   "metadata": {},
   "outputs": [],
   "source": [
    "X_train = tokenizer.texts_to_matrix(X_train,mode='count')\n",
    "X_test = tokenizer.texts_to_matrix(X_test,mode='count')"
   ]
  },
  {
   "cell_type": "code",
   "execution_count": 121,
   "id": "decreased-caution",
   "metadata": {},
   "outputs": [
    {
     "data": {
      "text/plain": [
       "PassiveAggressiveClassifier()"
      ]
     },
     "execution_count": 121,
     "metadata": {},
     "output_type": "execute_result"
    }
   ],
   "source": [
    "pac_classifier = PassiveAggressiveClassifier()\n",
    "pac_classifier.fit(X_train,y_train)"
   ]
  },
  {
   "cell_type": "code",
   "execution_count": 122,
   "id": "major-hollow",
   "metadata": {},
   "outputs": [],
   "source": [
    "y_pred = lr_classifier.predict(X_test)"
   ]
  },
  {
   "cell_type": "code",
   "execution_count": 123,
   "id": "pediatric-darwin",
   "metadata": {},
   "outputs": [
    {
     "name": "stdout",
     "output_type": "stream",
     "text": [
      "Accuracy: 97.55%\n",
      "Recall: 97.22%\n",
      "loss: 0.85\n"
     ]
    }
   ],
   "source": [
    "accuracy=accuracy_score(y_test,y_pred)\n",
    "loss = log_loss(y_test,y_pred)\n",
    "recall = recall_score(y_test,y_pred)\n",
    "print(f'Accuracy: {round(accuracy*100,2)}%\\nRecall: {round(recall*100,2)}%\\nloss: {round(loss,2)}')\n"
   ]
  },
  {
   "cell_type": "markdown",
   "id": "amber-starter",
   "metadata": {},
   "source": [
    "# Statistics for the best performing model"
   ]
  },
  {
   "cell_type": "code",
   "execution_count": 150,
   "id": "appointed-start",
   "metadata": {},
   "outputs": [
    {
     "data": {
      "text/plain": [
       "<sklearn.metrics._plot.precision_recall_curve.PrecisionRecallDisplay at 0x7f52e9351f70>"
      ]
     },
     "execution_count": 150,
     "metadata": {},
     "output_type": "execute_result"
    },
    {
     "data": {
      "image/png": "[encoded data removed]",
      "text/plain": [
       "<Figure size 432x288 with 1 Axes>"
      ]
     },
     "metadata": {
      "needs_background": "light"
     },
     "output_type": "display_data"
    }
   ],
   "source": [
    "precision, recall, _ = precision_recall_curve(y_test, y_pred)\n",
    "disp = PrecisionRecallDisplay(precision=precision, recall=recall)\n",
    "disp.plot()\n"
   ]
  },
  {
   "cell_type": "markdown",
   "id": "demonstrated-sheet",
   "metadata": {},
   "source": [
    "# Testing the SGD model on unseen articles"
   ]
  },
  {
   "cell_type": "code",
   "execution_count": 252,
   "id": "statutory-visibility",
   "metadata": {},
   "outputs": [],
   "source": [
    "# Entering the article\n",
    "article_body ='''\n",
    "\n",
    "\n",
    "După ravagiile Dianei Șoșoacă prin București sau Cluj, a venit și rândul Mediașului să-și dea prinosul de sânge și chiar zgârciuri pe altarul superbei doamne senator. Aflată în drum spre o degustare-antrenament pentru masa din weekend, Diana Șoșoacă e suspectată de dispariția subită a 7 canibali de vază din Mediaș. Asta în ciuda asigurărilor lui Ghiță Funar că „doamna Diana e blândă, nu mușcă… cel mult te gustă un pic, să vadă dacă ești bine făcut sau mai ai nevoie de coriandru. Altfel n-ar putea să facă rău nici unei barje de sarmale”.\n",
    "\n",
    "Însă camerele de supraveghere și martorii contrazic dezmințirile. Norocoșii supraviețuitori ai iureșului Șoșoacei prin Mediaș spun că aceasta le-a atacat concetățenii cu sălbăticie, ba chiar cu poftă și nesaț. În doar câteva minute, din fiecare vajnic reprezentant al protipendadei canibale medieșene n-au mai rămas decât hainele și-o mână de metatarsiene uscate. „La masa de protocol, hai, mai înțeleg – doamna senator a confundat șeful de sală cu aperitivele. Aș înțelege și când a crezut că domnul consilier local e inclus în meniu – c-a și comandat idem pentru la cameră. Da’ toți ceilalți?!”, se revoltă un supraviețuitor.\n",
    "\n",
    "În Mediaș, vecinii și cunoscuții deplâng soarta victimelor. „Era băiat bun, tânăr, zvelt, carnea proaspătă pe el. Și respectuos – mereu dădea «poftă bună» când ne-ntâlneam, îmi pupa mâna, da’ delicat, nu că să pună sare și să mă-ncerce cu incisivii, ca bădăranii. Și doar i-am zis să nu se-apropie de ea, oricâtă poftă i-ar fi făcut, că n-o dovedește și-o să iasă rău… și uite că acuma doamna Diana râgâie liniștită după el, pe când noi tre’ să-i mâncăm nenorocita de colivă vegetariană”, suspină vecina desertului medieșean al Dianei Șoșoacă.\n",
    "\n",
    "'''\n",
    "# Lemmatizing the article\n",
    "lemmatized_article = client.service.parseSentence_XML(article_body)\n",
    "# Cleaning the article\n",
    "lemmatized_article = lemmatized_article.split('\\n')\n",
    "lemmas = []\n",
    "for line in lemmatized_article:\n",
    "    found = re.search('.*LEMMA=\"([A-Za-zăâîșț1-9]*)\".*', line)\n",
    "    if found:\n",
    "        word = found.group(1)\n",
    "        if word not in stopwords:\n",
    "            lemmas.append(word)\n",
    "# Stemming the article\n",
    "stemmed_words =[]\n",
    "for word in lemmas:\n",
    "    stemmed_words.append(stemmer.stem(word))\n",
    "processed_article = ' '.join(stemmed_words)"
   ]
  },
  {
   "cell_type": "code",
   "execution_count": 253,
   "id": "heavy-cookie",
   "metadata": {},
   "outputs": [
    {
     "data": {
      "text/plain": [
       "SGDClassifier()"
      ]
     },
     "execution_count": 253,
     "metadata": {},
     "output_type": "execute_result"
    }
   ],
   "source": [
    "### Reinitializing the SGD with Count-Vectorizer model\n",
    "X_train,X_test,y_train,y_test=train_test_split(df['stemmed_articles'], label, test_size=0.2,shuffle=True)\n",
    "X_train = tokenizer.texts_to_matrix(X_train,mode='count')\n",
    "X_test = tokenizer.texts_to_matrix(X_test,mode='count')\n",
    "model = SGDClassifier()\n",
    "model.fit(X_train,y_train)"
   ]
  },
  {
   "cell_type": "code",
   "execution_count": 256,
   "id": "covered-magic",
   "metadata": {},
   "outputs": [],
   "source": [
    "# Transforming the input\n",
    "# Texts to matrix takes only list or list like objects so I initialized\n",
    "# a list containing only the user's article\n",
    "X_input = tokenizer.texts_to_matrix([processed_article],mode='count')\n",
    "# Testing the model\n",
    "y_pred = model.predict(X_input)"
   ]
  },
  {
   "cell_type": "code",
   "execution_count": 255,
   "id": "personalized-victorian",
   "metadata": {},
   "outputs": [
    {
     "name": "stdout",
     "output_type": "stream",
     "text": [
      "Articolul introdus este FAKE.\n",
      "\n"
     ]
    }
   ],
   "source": [
    "if y_pred[0] == 0:\n",
    "    print(\"Articolul introdus este FAKE.\")\n",
    "else:\n",
    "    print(\"Articolul introdus este adevarat.\")"
   ]
  }
 ],
 "metadata": {
  "kernelspec": {
   "display_name": "Python 3",
   "language": "python",
   "name": "python3"
  },
  "language_info": {
   "codemirror_mode": {
    "name": "ipython",
    "version": 3
   },
   "file_extension": ".py",
   "mimetype": "text/x-python",
   "name": "python",
   "nbconvert_exporter": "python",
   "pygments_lexer": "ipython3",
   "version": "3.9.3"
  }
 },
 "nbformat": 4,
 "nbformat_minor": 5
}
