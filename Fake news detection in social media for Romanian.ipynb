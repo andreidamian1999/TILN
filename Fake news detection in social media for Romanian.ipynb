{
 "cells": [
  {
   "cell_type": "markdown",
   "id": "blond-convertible",
   "metadata": {},
   "source": [
    "# Importing the necessary modules"
   ]
  },
  {
   "cell_type": "code",
   "execution_count": 126,
   "id": "express-agent",
   "metadata": {},
   "outputs": [],
   "source": [
    "# Utilitaries\n",
    "from csv import reader\n",
    "import re\n",
    "import pandas as pd\n",
    "import zeep\n",
    "# Data preparation and text manipulation\n",
    "import nltk\n",
    "from nltk.corpus import stopwords as stp\n",
    "import nltk.stem.snowball as snowball\n",
    "# Machine learning tools\n",
    "from sklearn.model_selection import train_test_split\n",
    "from tensorflow.keras.preprocessing.text import Tokenizer\n",
    "from tensorflow.keras.preprocessing.sequence import pad_sequences\n",
    "# Machine learning classificators\n",
    "from sklearn.linear_model import PassiveAggressiveClassifier\n",
    "from sklearn.linear_model import SGDClassifier\n",
    "from sklearn.linear_model import LogisticRegression\n",
    "from sklearn.naive_bayes import GaussianNB\n",
    "# Machine learning model metrics\n",
    "from sklearn.metrics import accuracy_score\n",
    "from sklearn.metrics import recall_score\n",
    "from sklearn.metrics import log_loss\n",
    "\n",
    "from sklearn.metrics import plot_precision_recall_curve\n",
    "from sklearn.metrics import PrecisionRecallDisplay\n",
    "from sklearn.metrics import precision_recall_curve\n",
    "\n",
    "from sklearn.metrics import confusion_matrix\n",
    "from sklearn.metrics import ConfusionMatrixDisplay\n",
    "from sklearn.metrics import plot_confusion_matrix"
   ]
  },
  {
   "cell_type": "markdown",
   "id": "logical-player",
   "metadata": {},
   "source": [
    "# Reading the corpus"
   ]
  },
  {
   "cell_type": "code",
   "execution_count": 2,
   "id": "covered-munich",
   "metadata": {},
   "outputs": [],
   "source": [
    "df = pd.read_csv('corpus.csv')"
   ]
  },
  {
   "cell_type": "code",
   "execution_count": 3,
   "id": "destroyed-tomorrow",
   "metadata": {},
   "outputs": [
    {
     "data": {
      "text/html": [
       "<div>\n",
       "<style scoped>\n",
       "    .dataframe tbody tr th:only-of-type {\n",
       "        vertical-align: middle;\n",
       "    }\n",
       "\n",
       "    .dataframe tbody tr th {\n",
       "        vertical-align: top;\n",
       "    }\n",
       "\n",
       "    .dataframe thead th {\n",
       "        text-align: right;\n",
       "    }\n",
       "</style>\n",
       "<table border=\"1\" class=\"dataframe\">\n",
       "  <thead>\n",
       "    <tr style=\"text-align: right;\">\n",
       "      <th></th>\n",
       "      <th>author</th>\n",
       "      <th>title</th>\n",
       "      <th>translation</th>\n",
       "      <th>label</th>\n",
       "    </tr>\n",
       "  </thead>\n",
       "  <tbody>\n",
       "    <tr>\n",
       "      <th>76</th>\n",
       "      <td>Eftimie</td>\n",
       "      <td>BOR a cerut 1 miliard de dolari de la NASA ca ...</td>\n",
       "      <td>Echipajul va avea la el o candelă și un busuio...</td>\n",
       "      <td>0</td>\n",
       "    </tr>\n",
       "    <tr>\n",
       "      <th>930</th>\n",
       "      <td>TVR</td>\n",
       "      <td>Ludovic Orban, despre demisie: Am considerat c...</td>\n",
       "      <td>Întrebat dacă preşedintele Klaus Iohannis i-a ...</td>\n",
       "      <td>1</td>\n",
       "    </tr>\n",
       "    <tr>\n",
       "      <th>970</th>\n",
       "      <td>TVR</td>\n",
       "      <td>Alegătorii din  satele izolate vor să nu fie i...</td>\n",
       "      <td>Cândva, pe ulițe se auzeau voci de copii. Acum...</td>\n",
       "      <td>1</td>\n",
       "    </tr>\n",
       "    <tr>\n",
       "      <th>866</th>\n",
       "      <td>TVR</td>\n",
       "      <td>Negocierile pentru noile funcții, pe final. Pr...</td>\n",
       "      <td>Potrivit unor surse, liberalii ar urma să prei...</td>\n",
       "      <td>1</td>\n",
       "    </tr>\n",
       "    <tr>\n",
       "      <th>312</th>\n",
       "      <td>TNR</td>\n",
       "      <td>Costumul de tufiş cu care pândea Arafat români...</td>\n",
       "      <td>„Mi-am dat seama prea târziu că ăla e un om, n...</td>\n",
       "      <td>0</td>\n",
       "    </tr>\n",
       "  </tbody>\n",
       "</table>\n",
       "</div>"
      ],
      "text/plain": [
       "      author                                              title  \\\n",
       "76   Eftimie  BOR a cerut 1 miliard de dolari de la NASA ca ...   \n",
       "930      TVR  Ludovic Orban, despre demisie: Am considerat c...   \n",
       "970      TVR  Alegătorii din  satele izolate vor să nu fie i...   \n",
       "866      TVR  Negocierile pentru noile funcții, pe final. Pr...   \n",
       "312      TNR  Costumul de tufiş cu care pândea Arafat români...   \n",
       "\n",
       "                                           translation  label  \n",
       "76   Echipajul va avea la el o candelă și un busuio...      0  \n",
       "930  Întrebat dacă preşedintele Klaus Iohannis i-a ...      1  \n",
       "970  Cândva, pe ulițe se auzeau voci de copii. Acum...      1  \n",
       "866  Potrivit unor surse, liberalii ar urma să prei...      1  \n",
       "312  „Mi-am dat seama prea târziu că ăla e un om, n...      0  "
      ]
     },
     "execution_count": 3,
     "metadata": {},
     "output_type": "execute_result"
    }
   ],
   "source": [
    "df.sample(5)"
   ]
  },
  {
   "cell_type": "markdown",
   "id": "broke-developer",
   "metadata": {},
   "source": [
    "# Data preparation"
   ]
  },
  {
   "cell_type": "markdown",
   "id": "sudden-teacher",
   "metadata": {},
   "source": [
    "### Lemmatization\n",
    "_Source: http://nlptools.info.uaic.ro/WebPosRo/_"
   ]
  },
  {
   "cell_type": "code",
   "execution_count": 4,
   "id": "documented-proof",
   "metadata": {},
   "outputs": [],
   "source": [
    "wsdl = 'http://nlptools.info.uaic.ro/WebPosRo/PosTaggerRoWS?wsdl'"
   ]
  },
  {
   "cell_type": "code",
   "execution_count": 5,
   "id": "greatest-firewall",
   "metadata": {},
   "outputs": [],
   "source": [
    "client = zeep.Client(wsdl=wsdl)"
   ]
  },
  {
   "cell_type": "markdown",
   "id": "educated-prize",
   "metadata": {},
   "source": [
    "#### Transforming each article using the POS tagger,tokenizing and filtering the stopwords at the same time"
   ]
  },
  {
   "cell_type": "code",
   "execution_count": 6,
   "id": "painted-scottish",
   "metadata": {},
   "outputs": [],
   "source": [
    "lemmatized_articles_xml=[]"
   ]
  },
  {
   "cell_type": "code",
   "execution_count": 7,
   "id": "rough-future",
   "metadata": {},
   "outputs": [],
   "source": [
    "for article in df['translation']:\n",
    "     lemmatized_articles_xml.append(client.service.parseSentence_XML(article))\n",
    "    "
   ]
  },
  {
   "cell_type": "code",
   "execution_count": 8,
   "id": "artistic-fourth",
   "metadata": {},
   "outputs": [],
   "source": [
    "# # Saving the articles to save execution time\n",
    "# for article in lemmatized_articles_xml:\n",
    "#     with open('lemmatized_articles','a+') as f:\n",
    "#         f.write(article)\n",
    "#         f.write('\\n')"
   ]
  },
  {
   "cell_type": "code",
   "execution_count": 9,
   "id": "increased-reconstruction",
   "metadata": {},
   "outputs": [],
   "source": [
    "stopwords = stp.words('romanian')\n",
    "lemmatized_articles_clean=[]\n",
    "for article in lemmatized_articles_xml:\n",
    "    article = article.split('\\n')\n",
    "    lemmas = []\n",
    "    for line in article:\n",
    "        found = re.search('.*LEMMA=\"([A-Za-zăâîșț1-9]*)\".*', line)\n",
    "        if found:\n",
    "            word = found.group(1)\n",
    "            if word not in stopwords:\n",
    "                lemmas.append(word)\n",
    "    lemmatized_articles_clean.append(lemmas)"
   ]
  },
  {
   "cell_type": "markdown",
   "id": "minimal-peeing",
   "metadata": {},
   "source": [
    "#### Adding the lemmatized articles to the corpus"
   ]
  },
  {
   "cell_type": "code",
   "execution_count": 10,
   "id": "norman-screw",
   "metadata": {},
   "outputs": [],
   "source": [
    "df['lemmatized_articles'] = lemmatized_articles_clean"
   ]
  },
  {
   "cell_type": "code",
   "execution_count": 11,
   "id": "exposed-latvia",
   "metadata": {},
   "outputs": [
    {
     "data": {
      "text/html": [
       "<div>\n",
       "<style scoped>\n",
       "    .dataframe tbody tr th:only-of-type {\n",
       "        vertical-align: middle;\n",
       "    }\n",
       "\n",
       "    .dataframe tbody tr th {\n",
       "        vertical-align: top;\n",
       "    }\n",
       "\n",
       "    .dataframe thead th {\n",
       "        text-align: right;\n",
       "    }\n",
       "</style>\n",
       "<table border=\"1\" class=\"dataframe\">\n",
       "  <thead>\n",
       "    <tr style=\"text-align: right;\">\n",
       "      <th></th>\n",
       "      <th>author</th>\n",
       "      <th>title</th>\n",
       "      <th>translation</th>\n",
       "      <th>label</th>\n",
       "      <th>lemmatized_articles</th>\n",
       "    </tr>\n",
       "  </thead>\n",
       "  <tbody>\n",
       "    <tr>\n",
       "      <th>129</th>\n",
       "      <td>Vasile</td>\n",
       "      <td>Un român ambiţios şi-a făcut un pepene acasă d...</td>\n",
       "      <td>„Mai aştept luna plină ca să-i dau viaţă creaţ...</td>\n",
       "      <td>0</td>\n",
       "      <td>[aștepta, lună, plin, viață, creație, sine, lă...</td>\n",
       "    </tr>\n",
       "    <tr>\n",
       "      <th>529</th>\n",
       "      <td>Calin</td>\n",
       "      <td>Colțescu și-a învățat lecția: „Îi urez succes ...</td>\n",
       "      <td>„Am evoluat mult de când iau meditații“, se la...</td>\n",
       "      <td>0</td>\n",
       "      <td>[evolua, lua, meditație, sine, lăuda, Sebastia...</td>\n",
       "    </tr>\n",
       "    <tr>\n",
       "      <th>200</th>\n",
       "      <td>Eftimie</td>\n",
       "      <td>Branșat la contracte cu statul! Dan Bittman va...</td>\n",
       "      <td>„Decizia a fost luată la nivelul ministerului,...</td>\n",
       "      <td>0</td>\n",
       "      <td>[decizie, luat, nivel, minister, ști, băga, no...</td>\n",
       "    </tr>\n",
       "    <tr>\n",
       "      <th>96</th>\n",
       "      <td>Eftimie</td>\n",
       "      <td>Elon Musk, devastat! O pisică spaţială i-a dăr...</td>\n",
       "      <td>China a anunțat că e dispusă să ajute, respect...</td>\n",
       "      <td>0</td>\n",
       "      <td>[China, anunța, dispus, ajuta, respectiv, crea...</td>\n",
       "    </tr>\n",
       "    <tr>\n",
       "      <th>229</th>\n",
       "      <td>Ionut</td>\n",
       "      <td>Andi Moisescu, prins de Olivia Steer cu o șaor...</td>\n",
       "      <td>În consecință, Andi nu mai are voie să meargă ...</td>\n",
       "      <td>0</td>\n",
       "      <td>[andi, voie, merge, român, talent, vrea, parti...</td>\n",
       "    </tr>\n",
       "  </tbody>\n",
       "</table>\n",
       "</div>"
      ],
      "text/plain": [
       "      author                                              title  \\\n",
       "129   Vasile  Un român ambiţios şi-a făcut un pepene acasă d...   \n",
       "529    Calin  Colțescu și-a învățat lecția: „Îi urez succes ...   \n",
       "200  Eftimie  Branșat la contracte cu statul! Dan Bittman va...   \n",
       "96   Eftimie  Elon Musk, devastat! O pisică spaţială i-a dăr...   \n",
       "229    Ionut  Andi Moisescu, prins de Olivia Steer cu o șaor...   \n",
       "\n",
       "                                           translation  label  \\\n",
       "129  „Mai aştept luna plină ca să-i dau viaţă creaţ...      0   \n",
       "529  „Am evoluat mult de când iau meditații“, se la...      0   \n",
       "200  „Decizia a fost luată la nivelul ministerului,...      0   \n",
       "96   China a anunțat că e dispusă să ajute, respect...      0   \n",
       "229  În consecință, Andi nu mai are voie să meargă ...      0   \n",
       "\n",
       "                                   lemmatized_articles  \n",
       "129  [aștepta, lună, plin, viață, creație, sine, lă...  \n",
       "529  [evolua, lua, meditație, sine, lăuda, Sebastia...  \n",
       "200  [decizie, luat, nivel, minister, ști, băga, no...  \n",
       "96   [China, anunța, dispus, ajuta, respectiv, crea...  \n",
       "229  [andi, voie, merge, român, talent, vrea, parti...  "
      ]
     },
     "execution_count": 11,
     "metadata": {},
     "output_type": "execute_result"
    }
   ],
   "source": [
    "df.sample(5)"
   ]
  },
  {
   "cell_type": "markdown",
   "id": "medium-default",
   "metadata": {},
   "source": [
    "#### Stemming"
   ]
  },
  {
   "cell_type": "code",
   "execution_count": 12,
   "id": "committed-argument",
   "metadata": {},
   "outputs": [],
   "source": [
    "stemmed_articles = []\n",
    "stemmer = snowball.SnowballStemmer('romanian')\n",
    "\n",
    "for article in df['lemmatized_articles']:\n",
    "    stemmed_words =[]\n",
    "    for word in article:\n",
    "        stemmed_words.append(stemmer.stem(word))\n",
    "        # Appending the string form of the stemmed array because it will\n",
    "        # be needed in the next step\n",
    "    stemmed_articles.append(' '.join(stemmed_words))"
   ]
  },
  {
   "cell_type": "markdown",
   "id": "hidden-exhaust",
   "metadata": {},
   "source": [
    "#### Adding the stemmed articles to the corpus"
   ]
  },
  {
   "cell_type": "code",
   "execution_count": 13,
   "id": "random-keeping",
   "metadata": {},
   "outputs": [],
   "source": [
    "df['stemmed_articles']=stemmed_articles"
   ]
  },
  {
   "cell_type": "code",
   "execution_count": 14,
   "id": "sized-basin",
   "metadata": {},
   "outputs": [
    {
     "data": {
      "text/html": [
       "<div>\n",
       "<style scoped>\n",
       "    .dataframe tbody tr th:only-of-type {\n",
       "        vertical-align: middle;\n",
       "    }\n",
       "\n",
       "    .dataframe tbody tr th {\n",
       "        vertical-align: top;\n",
       "    }\n",
       "\n",
       "    .dataframe thead th {\n",
       "        text-align: right;\n",
       "    }\n",
       "</style>\n",
       "<table border=\"1\" class=\"dataframe\">\n",
       "  <thead>\n",
       "    <tr style=\"text-align: right;\">\n",
       "      <th></th>\n",
       "      <th>author</th>\n",
       "      <th>title</th>\n",
       "      <th>translation</th>\n",
       "      <th>label</th>\n",
       "      <th>lemmatized_articles</th>\n",
       "      <th>stemmed_articles</th>\n",
       "    </tr>\n",
       "  </thead>\n",
       "  <tbody>\n",
       "    <tr>\n",
       "      <th>162</th>\n",
       "      <td>Calin</td>\n",
       "      <td>Strehaia va lansa o căruță în spațiu, ca să fu...</td>\n",
       "      <td>Primarul din Strehaia râde de întreprinzător ș...</td>\n",
       "      <td>0</td>\n",
       "      <td>[primar, Strehaia, râde, întreprinzător, și, n...</td>\n",
       "      <td>primar strehai râd întreprinz și niciun șans s...</td>\n",
       "    </tr>\n",
       "    <tr>\n",
       "      <th>267</th>\n",
       "      <td>Ionut</td>\n",
       "      <td>Turiști fugăriți de Olivia Steer, care încerca...</td>\n",
       "      <td>Olivia a devenit agresivă atunci când un turis...</td>\n",
       "      <td>0</td>\n",
       "      <td>[olivia, deveni, agresiv, turist, spune, sine,...</td>\n",
       "      <td>oliv deven agres turist spun sin duc teor înar...</td>\n",
       "    </tr>\n",
       "    <tr>\n",
       "      <th>129</th>\n",
       "      <td>Vasile</td>\n",
       "      <td>Un român ambiţios şi-a făcut un pepene acasă d...</td>\n",
       "      <td>„Mai aştept luna plină ca să-i dau viaţă creaţ...</td>\n",
       "      <td>0</td>\n",
       "      <td>[aștepta, lună, plin, viață, creație, sine, lă...</td>\n",
       "      <td>aștept lun plin viaț creaț sin lăud marceleanu...</td>\n",
       "    </tr>\n",
       "    <tr>\n",
       "      <th>32</th>\n",
       "      <td>Eftimie</td>\n",
       "      <td>Azi toți bugetarii sunt la birou, că vin Samsu...</td>\n",
       "      <td>Până la începutul verii nu se așteaptă la un n...</td>\n",
       "      <td>0</td>\n",
       "      <td>[început, vară, sine, aștepta, vârf, bugetar, ...</td>\n",
       "      <td>încep var sin aștept vârf bugetar munc veder m...</td>\n",
       "    </tr>\n",
       "    <tr>\n",
       "      <th>417</th>\n",
       "      <td>Vasile</td>\n",
       "      <td>Smart! Autostrada Moldovei va avea 3 benzi spr...</td>\n",
       "      <td>„De regulă, dacă ai geacă de blugi şi ştii ole...</td>\n",
       "      <td>0</td>\n",
       "      <td>[regulă, geacă, blugi, și, ști, oleacî, di, ba...</td>\n",
       "      <td>regul geac blug și ști oleacî di batai duc buc...</td>\n",
       "    </tr>\n",
       "  </tbody>\n",
       "</table>\n",
       "</div>"
      ],
      "text/plain": [
       "      author                                              title  \\\n",
       "162    Calin  Strehaia va lansa o căruță în spațiu, ca să fu...   \n",
       "267    Ionut  Turiști fugăriți de Olivia Steer, care încerca...   \n",
       "129   Vasile  Un român ambiţios şi-a făcut un pepene acasă d...   \n",
       "32   Eftimie  Azi toți bugetarii sunt la birou, că vin Samsu...   \n",
       "417   Vasile  Smart! Autostrada Moldovei va avea 3 benzi spr...   \n",
       "\n",
       "                                           translation  label  \\\n",
       "162  Primarul din Strehaia râde de întreprinzător ș...      0   \n",
       "267  Olivia a devenit agresivă atunci când un turis...      0   \n",
       "129  „Mai aştept luna plină ca să-i dau viaţă creaţ...      0   \n",
       "32   Până la începutul verii nu se așteaptă la un n...      0   \n",
       "417  „De regulă, dacă ai geacă de blugi şi ştii ole...      0   \n",
       "\n",
       "                                   lemmatized_articles  \\\n",
       "162  [primar, Strehaia, râde, întreprinzător, și, n...   \n",
       "267  [olivia, deveni, agresiv, turist, spune, sine,...   \n",
       "129  [aștepta, lună, plin, viață, creație, sine, lă...   \n",
       "32   [început, vară, sine, aștepta, vârf, bugetar, ...   \n",
       "417  [regulă, geacă, blugi, și, ști, oleacî, di, ba...   \n",
       "\n",
       "                                      stemmed_articles  \n",
       "162  primar strehai râd întreprinz și niciun șans s...  \n",
       "267  oliv deven agres turist spun sin duc teor înar...  \n",
       "129  aștept lun plin viaț creaț sin lăud marceleanu...  \n",
       "32   încep var sin aștept vârf bugetar munc veder m...  \n",
       "417  regul geac blug și ști oleacî di batai duc buc...  "
      ]
     },
     "execution_count": 14,
     "metadata": {},
     "output_type": "execute_result"
    }
   ],
   "source": [
    "df.sample(5)"
   ]
  },
  {
   "cell_type": "markdown",
   "id": "superb-runner",
   "metadata": {},
   "source": [
    "# Preparation for the Machine Learning training"
   ]
  },
  {
   "cell_type": "markdown",
   "id": "victorian-analyst",
   "metadata": {},
   "source": [
    "#### Extracting the article labels"
   ]
  },
  {
   "cell_type": "code",
   "execution_count": 15,
   "id": "subjective-makeup",
   "metadata": {},
   "outputs": [],
   "source": [
    "label = df.label"
   ]
  },
  {
   "cell_type": "markdown",
   "id": "bridal-mumbai",
   "metadata": {},
   "source": [
    "#### Splitting the dataset"
   ]
  },
  {
   "cell_type": "code",
   "execution_count": 82,
   "id": "backed-textbook",
   "metadata": {},
   "outputs": [],
   "source": [
    "X_train,X_test,y_train,y_test=train_test_split(df['stemmed_articles'], label, test_size=0.2,shuffle=True)"
   ]
  },
  {
   "cell_type": "markdown",
   "id": "optical-longer",
   "metadata": {},
   "source": [
    "#### Preparing the tokenizer"
   ]
  },
  {
   "cell_type": "code",
   "execution_count": 83,
   "id": "parental-motel",
   "metadata": {},
   "outputs": [],
   "source": [
    "tokenizer = Tokenizer()\n",
    "tokenizer.fit_on_texts(X_train)"
   ]
  },
  {
   "cell_type": "markdown",
   "id": "unknown-method",
   "metadata": {},
   "source": [
    "# Trying different Machine Learning models"
   ]
  },
  {
   "cell_type": "markdown",
   "id": "imported-drinking",
   "metadata": {},
   "source": [
    "## Bayes Naive"
   ]
  },
  {
   "cell_type": "markdown",
   "id": "unlikely-amsterdam",
   "metadata": {},
   "source": [
    "### BN with TF-IDF"
   ]
  },
  {
   "cell_type": "code",
   "execution_count": 84,
   "id": "studied-indianapolis",
   "metadata": {},
   "outputs": [],
   "source": [
    "X_train = tokenizer.texts_to_matrix(X_train,mode='tfidf')\n",
    "X_test = tokenizer.texts_to_matrix(X_test,mode='tfidf')"
   ]
  },
  {
   "cell_type": "code",
   "execution_count": 85,
   "id": "terminal-bridal",
   "metadata": {},
   "outputs": [],
   "source": [
    "##### _After each transformation its necessary to recompute X_train and X_test again."
   ]
  },
  {
   "cell_type": "code",
   "execution_count": 86,
   "id": "positive-tissue",
   "metadata": {},
   "outputs": [
    {
     "data": {
      "text/plain": [
       "GaussianNB()"
      ]
     },
     "execution_count": 86,
     "metadata": {},
     "output_type": "execute_result"
    }
   ],
   "source": [
    "nb_classifier = GaussianNB()\n",
    "nb_classifier.fit(X_train,y_train)"
   ]
  },
  {
   "cell_type": "code",
   "execution_count": 87,
   "id": "danish-egypt",
   "metadata": {},
   "outputs": [],
   "source": [
    "y_pred = nb_classifier.predict(X_test)"
   ]
  },
  {
   "cell_type": "code",
   "execution_count": 88,
   "id": "cosmetic-stewart",
   "metadata": {},
   "outputs": [
    {
     "name": "stdout",
     "output_type": "stream",
     "text": [
      "Accuracy: 87.25%\n",
      "Recall: 65.22%\n",
      "loss: 4.4\n"
     ]
    }
   ],
   "source": [
    "accuracy=accuracy_score(y_test,y_pred)\n",
    "loss = log_loss(y_test,y_pred)\n",
    "recall = recall_score(y_test,y_pred)\n",
    "print(f'Accuracy: {round(accuracy*100,2)}%\\nRecall: {round(recall*100,2)}%\\nloss: {round(loss,2)}')\n"
   ]
  },
  {
   "cell_type": "markdown",
   "id": "threatened-consultation",
   "metadata": {},
   "source": [
    "### BN with Count-Vectorizer"
   ]
  },
  {
   "cell_type": "code",
   "execution_count": 89,
   "id": "lasting-journal",
   "metadata": {},
   "outputs": [],
   "source": [
    "X_train,X_test,y_train,y_test=train_test_split(df['stemmed_articles'], label, test_size=0.2,shuffle=True)"
   ]
  },
  {
   "cell_type": "code",
   "execution_count": 90,
   "id": "amino-might",
   "metadata": {},
   "outputs": [],
   "source": [
    "X_train = tokenizer.texts_to_matrix(X_train,mode='count')\n",
    "X_test = tokenizer.texts_to_matrix(X_test,mode='count')"
   ]
  },
  {
   "cell_type": "code",
   "execution_count": 91,
   "id": "independent-greece",
   "metadata": {},
   "outputs": [
    {
     "data": {
      "text/plain": [
       "GaussianNB()"
      ]
     },
     "execution_count": 91,
     "metadata": {},
     "output_type": "execute_result"
    }
   ],
   "source": [
    "nb_classifier = GaussianNB()\n",
    "nb_classifier.fit(X_train,y_train)"
   ]
  },
  {
   "cell_type": "code",
   "execution_count": 92,
   "id": "joint-decline",
   "metadata": {},
   "outputs": [],
   "source": [
    "y_pred = nb_classifier.predict(X_test)"
   ]
  },
  {
   "cell_type": "code",
   "execution_count": 93,
   "id": "derived-alarm",
   "metadata": {},
   "outputs": [
    {
     "name": "stdout",
     "output_type": "stream",
     "text": [
      "Accuracy: 84.8%\n",
      "Recall: 61.84%\n",
      "loss: 5.25\n"
     ]
    }
   ],
   "source": [
    "accuracy=accuracy_score(y_test,y_pred)\n",
    "loss = log_loss(y_test,y_pred)\n",
    "recall = recall_score(y_test,y_pred)\n",
    "print(f'Accuracy: {round(accuracy*100,2)}%\\nRecall: {round(recall*100,2)}%\\nloss: {round(loss,2)}')\n"
   ]
  },
  {
   "cell_type": "markdown",
   "id": "destroyed-woman",
   "metadata": {},
   "source": [
    "## Logistic Regression "
   ]
  },
  {
   "cell_type": "markdown",
   "id": "alpine-gathering",
   "metadata": {},
   "source": [
    "### LR with TF-IDF"
   ]
  },
  {
   "cell_type": "code",
   "execution_count": 94,
   "id": "flush-mongolia",
   "metadata": {},
   "outputs": [],
   "source": [
    "X_train,X_test,y_train,y_test=train_test_split(df['stemmed_articles'], label, test_size=0.2,shuffle=True)"
   ]
  },
  {
   "cell_type": "code",
   "execution_count": 95,
   "id": "electrical-spell",
   "metadata": {},
   "outputs": [],
   "source": [
    "X_train = tokenizer.texts_to_matrix(X_train,mode='tfidf')\n",
    "X_test = tokenizer.texts_to_matrix(X_test,mode='tfidf')"
   ]
  },
  {
   "cell_type": "code",
   "execution_count": 96,
   "id": "emotional-change",
   "metadata": {},
   "outputs": [
    {
     "data": {
      "text/plain": [
       "LogisticRegression()"
      ]
     },
     "execution_count": 96,
     "metadata": {},
     "output_type": "execute_result"
    }
   ],
   "source": [
    "lr_classifier = LogisticRegression()\n",
    "lr_classifier.fit(X_train,y_train)"
   ]
  },
  {
   "cell_type": "code",
   "execution_count": 97,
   "id": "equivalent-headquarters",
   "metadata": {},
   "outputs": [],
   "source": [
    "y_pred = nb_classifier.predict(X_test)"
   ]
  },
  {
   "cell_type": "code",
   "execution_count": 98,
   "id": "accurate-index",
   "metadata": {},
   "outputs": [
    {
     "name": "stdout",
     "output_type": "stream",
     "text": [
      "Accuracy: 98.04%\n",
      "Recall: 94.74%\n",
      "loss: 0.68\n"
     ]
    }
   ],
   "source": [
    "accuracy=accuracy_score(y_test,y_pred)\n",
    "loss = log_loss(y_test,y_pred)\n",
    "recall = recall_score(y_test,y_pred)\n",
    "print(f'Accuracy: {round(accuracy*100,2)}%\\nRecall: {round(recall*100,2)}%\\nloss: {round(loss,2)}')\n"
   ]
  },
  {
   "cell_type": "markdown",
   "id": "thermal-copper",
   "metadata": {},
   "source": [
    "### LR with Count-Vectorizer"
   ]
  },
  {
   "cell_type": "code",
   "execution_count": 99,
   "id": "helpful-scientist",
   "metadata": {},
   "outputs": [],
   "source": [
    "X_train,X_test,y_train,y_test=train_test_split(df['stemmed_articles'], label, test_size=0.2,shuffle=True)"
   ]
  },
  {
   "cell_type": "code",
   "execution_count": 100,
   "id": "functional-converter",
   "metadata": {},
   "outputs": [],
   "source": [
    "X_train = tokenizer.texts_to_matrix(X_train,mode='count')\n",
    "X_test = tokenizer.texts_to_matrix(X_test,mode='count')"
   ]
  },
  {
   "cell_type": "code",
   "execution_count": 101,
   "id": "medical-consent",
   "metadata": {},
   "outputs": [
    {
     "data": {
      "text/plain": [
       "LogisticRegression()"
      ]
     },
     "execution_count": 101,
     "metadata": {},
     "output_type": "execute_result"
    }
   ],
   "source": [
    "lr_classifier = LogisticRegression()\n",
    "lr_classifier.fit(X_train,y_train)"
   ]
  },
  {
   "cell_type": "code",
   "execution_count": 102,
   "id": "bizarre-memory",
   "metadata": {},
   "outputs": [],
   "source": [
    "y_pred = lr_classifier.predict(X_test)"
   ]
  },
  {
   "cell_type": "code",
   "execution_count": 103,
   "id": "offshore-wiring",
   "metadata": {},
   "outputs": [
    {
     "name": "stdout",
     "output_type": "stream",
     "text": [
      "Accuracy: 90.2%\n",
      "Recall: 90.54%\n",
      "loss: 3.39\n"
     ]
    }
   ],
   "source": [
    "accuracy=accuracy_score(y_test,y_pred)\n",
    "loss = log_loss(y_test,y_pred)\n",
    "recall = recall_score(y_test,y_pred)\n",
    "print(f'Accuracy: {round(accuracy*100,2)}%\\nRecall: {round(recall*100,2)}%\\nloss: {round(loss,2)}')\n"
   ]
  },
  {
   "cell_type": "markdown",
   "id": "supposed-accreditation",
   "metadata": {},
   "source": [
    "## SGD "
   ]
  },
  {
   "cell_type": "markdown",
   "id": "invalid-estonia",
   "metadata": {},
   "source": [
    "### SGD with TF-IDF"
   ]
  },
  {
   "cell_type": "code",
   "execution_count": 104,
   "id": "ordinary-bidding",
   "metadata": {},
   "outputs": [],
   "source": [
    "X_train,X_test,y_train,y_test=train_test_split(df['stemmed_articles'], label, test_size=0.2,shuffle=True)"
   ]
  },
  {
   "cell_type": "code",
   "execution_count": 105,
   "id": "elegant-clear",
   "metadata": {},
   "outputs": [],
   "source": [
    "X_train = tokenizer.texts_to_matrix(X_train,mode='tfidf')\n",
    "X_test = tokenizer.texts_to_matrix(X_test,mode='tfidf')"
   ]
  },
  {
   "cell_type": "code",
   "execution_count": 106,
   "id": "higher-scheduling",
   "metadata": {},
   "outputs": [
    {
     "data": {
      "text/plain": [
       "SGDClassifier()"
      ]
     },
     "execution_count": 106,
     "metadata": {},
     "output_type": "execute_result"
    }
   ],
   "source": [
    "sgd_classifier = SGDClassifier()\n",
    "sgd_classifier.fit(X_train,y_train)"
   ]
  },
  {
   "cell_type": "code",
   "execution_count": 107,
   "id": "agreed-trial",
   "metadata": {},
   "outputs": [],
   "source": [
    "y_pred = nb_classifier.predict(X_test)"
   ]
  },
  {
   "cell_type": "code",
   "execution_count": 108,
   "id": "graduate-sessions",
   "metadata": {},
   "outputs": [
    {
     "name": "stdout",
     "output_type": "stream",
     "text": [
      "Accuracy: 94.12%\n",
      "Recall: 83.78%\n",
      "loss: 2.03\n"
     ]
    }
   ],
   "source": [
    "accuracy=accuracy_score(y_test,y_pred)\n",
    "loss = log_loss(y_test,y_pred)\n",
    "recall = recall_score(y_test,y_pred)\n",
    "print(f'Accuracy: {round(accuracy*100,2)}%\\nRecall: {round(recall*100,2)}%\\nloss: {round(loss,2)}')\n"
   ]
  },
  {
   "cell_type": "markdown",
   "id": "canadian-metallic",
   "metadata": {},
   "source": [
    "### SGD with Count-Vectorizer"
   ]
  },
  {
   "cell_type": "code",
   "execution_count": 145,
   "id": "northern-ambassador",
   "metadata": {},
   "outputs": [],
   "source": [
    "X_train,X_test,y_train,y_test=train_test_split(df['stemmed_articles'], label, test_size=0.2,shuffle=True)"
   ]
  },
  {
   "cell_type": "code",
   "execution_count": 146,
   "id": "governmental-migration",
   "metadata": {},
   "outputs": [],
   "source": [
    "X_train = tokenizer.texts_to_matrix(X_train,mode='count')\n",
    "X_test = tokenizer.texts_to_matrix(X_test,mode='count')"
   ]
  },
  {
   "cell_type": "code",
   "execution_count": 147,
   "id": "metric-strength",
   "metadata": {},
   "outputs": [
    {
     "data": {
      "text/plain": [
       "SGDClassifier()"
      ]
     },
     "execution_count": 147,
     "metadata": {},
     "output_type": "execute_result"
    }
   ],
   "source": [
    "sgd_classifier = SGDClassifier()\n",
    "sgd_classifier.fit(X_train,y_train)"
   ]
  },
  {
   "cell_type": "code",
   "execution_count": 148,
   "id": "forty-computer",
   "metadata": {},
   "outputs": [],
   "source": [
    "y_pred = lr_classifier.predict(X_test)"
   ]
  },
  {
   "cell_type": "code",
   "execution_count": 149,
   "id": "adult-polls",
   "metadata": {},
   "outputs": [
    {
     "name": "stdout",
     "output_type": "stream",
     "text": [
      "Accuracy: 97.55%\n",
      "Recall: 98.68%\n",
      "loss: 0.85\n"
     ]
    }
   ],
   "source": [
    "accuracy=accuracy_score(y_test,y_pred)\n",
    "loss = log_loss(y_test,y_pred)\n",
    "recall = recall_score(y_test,y_pred)\n",
    "print(f'Accuracy: {round(accuracy*100,2)}%\\nRecall: {round(recall*100,2)}%\\nloss: {round(loss,2)}')\n"
   ]
  },
  {
   "cell_type": "markdown",
   "id": "cellular-martial",
   "metadata": {},
   "source": [
    "## Passive Agressive Classifier"
   ]
  },
  {
   "cell_type": "markdown",
   "id": "turned-muslim",
   "metadata": {},
   "source": [
    "### PAC with TF-IDF"
   ]
  },
  {
   "cell_type": "code",
   "execution_count": 114,
   "id": "thrown-board",
   "metadata": {},
   "outputs": [],
   "source": [
    "X_train,X_test,y_train,y_test=train_test_split(df['stemmed_articles'], label, test_size=0.2,shuffle=True)"
   ]
  },
  {
   "cell_type": "code",
   "execution_count": 115,
   "id": "pharmaceutical-gregory",
   "metadata": {},
   "outputs": [],
   "source": [
    "X_train = tokenizer.texts_to_matrix(X_train,mode='tfidf')\n",
    "X_test = tokenizer.texts_to_matrix(X_test,mode='tfidf')"
   ]
  },
  {
   "cell_type": "code",
   "execution_count": 116,
   "id": "amazing-rainbow",
   "metadata": {},
   "outputs": [
    {
     "data": {
      "text/plain": [
       "PassiveAggressiveClassifier()"
      ]
     },
     "execution_count": 116,
     "metadata": {},
     "output_type": "execute_result"
    }
   ],
   "source": [
    "pac_classifier = PassiveAggressiveClassifier()\n",
    "pac_classifier.fit(X_train,y_train)"
   ]
  },
  {
   "cell_type": "code",
   "execution_count": 117,
   "id": "framed-teddy",
   "metadata": {},
   "outputs": [],
   "source": [
    "y_pred = nb_classifier.predict(X_test)"
   ]
  },
  {
   "cell_type": "code",
   "execution_count": 118,
   "id": "correct-science",
   "metadata": {},
   "outputs": [
    {
     "name": "stdout",
     "output_type": "stream",
     "text": [
      "Accuracy: 98.04%\n",
      "Recall: 95.06%\n",
      "loss: 0.68\n"
     ]
    }
   ],
   "source": [
    "accuracy=accuracy_score(y_test,y_pred)\n",
    "loss = log_loss(y_test,y_pred)\n",
    "recall = recall_score(y_test,y_pred)\n",
    "print(f'Accuracy: {round(accuracy*100,2)}%\\nRecall: {round(recall*100,2)}%\\nloss: {round(loss,2)}')\n"
   ]
  },
  {
   "cell_type": "markdown",
   "id": "available-earthquake",
   "metadata": {},
   "source": [
    "### PAC with Count-Vectorizer"
   ]
  },
  {
   "cell_type": "code",
   "execution_count": 119,
   "id": "graduate-biology",
   "metadata": {},
   "outputs": [],
   "source": [
    "X_train,X_test,y_train,y_test=train_test_split(df['stemmed_articles'], label, test_size=0.2,shuffle=True)"
   ]
  },
  {
   "cell_type": "code",
   "execution_count": 120,
   "id": "inclusive-frederick",
   "metadata": {},
   "outputs": [],
   "source": [
    "X_train = tokenizer.texts_to_matrix(X_train,mode='count')\n",
    "X_test = tokenizer.texts_to_matrix(X_test,mode='count')"
   ]
  },
  {
   "cell_type": "code",
   "execution_count": 121,
   "id": "serial-hollow",
   "metadata": {},
   "outputs": [
    {
     "data": {
      "text/plain": [
       "PassiveAggressiveClassifier()"
      ]
     },
     "execution_count": 121,
     "metadata": {},
     "output_type": "execute_result"
    }
   ],
   "source": [
    "pac_classifier = PassiveAggressiveClassifier()\n",
    "pac_classifier.fit(X_train,y_train)"
   ]
  },
  {
   "cell_type": "code",
   "execution_count": 122,
   "id": "junior-longitude",
   "metadata": {},
   "outputs": [],
   "source": [
    "y_pred = lr_classifier.predict(X_test)"
   ]
  },
  {
   "cell_type": "code",
   "execution_count": 123,
   "id": "incorporate-composition",
   "metadata": {},
   "outputs": [
    {
     "name": "stdout",
     "output_type": "stream",
     "text": [
      "Accuracy: 97.55%\n",
      "Recall: 97.22%\n",
      "loss: 0.85\n"
     ]
    }
   ],
   "source": [
    "accuracy=accuracy_score(y_test,y_pred)\n",
    "loss = log_loss(y_test,y_pred)\n",
    "recall = recall_score(y_test,y_pred)\n",
    "print(f'Accuracy: {round(accuracy*100,2)}%\\nRecall: {round(recall*100,2)}%\\nloss: {round(loss,2)}')\n"
   ]
  },
  {
   "cell_type": "markdown",
   "id": "transsexual-character",
   "metadata": {},
   "source": [
    "# Statistics for the best performing model"
   ]
  },
  {
   "cell_type": "code",
   "execution_count": 150,
   "id": "announced-provincial",
   "metadata": {},
   "outputs": [
    {
     "data": {
      "text/plain": [
       "<sklearn.metrics._plot.precision_recall_curve.PrecisionRecallDisplay at 0x7f52e9351f70>"
      ]
     },
     "execution_count": 150,
     "metadata": {},
     "output_type": "execute_result"
    },
    {
     "data": {
      "image/png": "[encoded data removed]",
      "text/plain": [
       "<Figure size 432x288 with 1 Axes>"
      ]
     },
     "metadata": {
      "needs_background": "light"
     },
     "output_type": "display_data"
    }
   ],
   "source": [
    "precision, recall, _ = precision_recall_curve(y_test, y_pred)\n",
    "disp = PrecisionRecallDisplay(precision=precision, recall=recall)\n",
    "disp.plot()\n"
   ]
  },
  {
   "cell_type": "markdown",
   "id": "expensive-trunk",
   "metadata": {},
   "source": [
    "# Testing the SGD model on unseen articles"
   ]
  },
  {
   "cell_type": "code",
   "execution_count": 160,
   "id": "reported-hearing",
   "metadata": {},
   "outputs": [],
   "source": [
    "# Entering the article\n",
    "article_body = \"Putin joaca alba neagra\"\n",
    "# Lemmatizing the article\n",
    "lemmatized_article = client.service.parseSentence_XML(article_body)\n",
    "# Cleaning the article\n",
    "lemmatized_article = lemmatized_article.split('\\n')\n",
    "lemmas = []\n",
    "for line in lemmatized_article:\n",
    "    found = re.search('.*LEMMA=\"([A-Za-zăâîșț1-9]*)\".*', line)\n",
    "    if found:\n",
    "        word = found.group(1)\n",
    "        if word not in stopwords:\n",
    "            lemmas.append(word)\n",
    "# Stemming the article\n",
    "stemmed_words =[]\n",
    "for word in lemmas:\n",
    "    stemmed_words.append(stemmer.stem(word))\n",
    "processed_article = ' '.join(stemmed_words)"
   ]
  },
  {
   "cell_type": "code",
   "execution_count": 159,
   "id": "exempt-meditation",
   "metadata": {},
   "outputs": [
    {
     "data": {
      "text/plain": [
       "'silv davidoiu acredit ambasador extraordinar și plenipotențiar român reședinț belgrad ana voicu republ oriental uruguay reședinț montevideo simon mirel miculescu delegaț permanent român unesco paris mate viorel ardeleanu deven ambasador extraordinar și plenipotențiar român muntenegru reședinț'"
      ]
     },
     "execution_count": 159,
     "metadata": {},
     "output_type": "execute_result"
    }
   ],
   "source": [
    "processed_article"
   ]
  }
 ],
 "metadata": {
  "kernelspec": {
   "display_name": "Python 3",
   "language": "python",
   "name": "python3"
  },
  "language_info": {
   "codemirror_mode": {
    "name": "ipython",
    "version": 3
   },
   "file_extension": ".py",
   "mimetype": "text/x-python",
   "name": "python",
   "nbconvert_exporter": "python",
   "pygments_lexer": "ipython3",
   "version": "3.9.3"
  }
 },
 "nbformat": 4,
 "nbformat_minor": 5
}
