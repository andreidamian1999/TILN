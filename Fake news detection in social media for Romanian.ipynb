{
 "cells": [
  {
   "cell_type": "markdown",
   "id": "beneficial-energy",
   "metadata": {},
   "source": [
    "# Importing the necessary modules"
   ]
  },
  {
   "cell_type": "code",
   "execution_count": 69,
   "id": "broad-preservation",
   "metadata": {},
   "outputs": [],
   "source": [
    "# Utilitaries\n",
    "from csv import reader\n",
    "import re\n",
    "import pandas as pd\n",
    "import zeep\n",
    "# Text manipulation\n",
    "\n",
    "# Data preparation\n",
    "import nltk\n",
    "from nltk.corpus import stopwords as stp\n",
    "import nltk.stem.snowball as snowball\n",
    "# Machine learning tools\n",
    "from sklearn.model_selection import train_test_split\n",
    "# Machine learning classificators"
   ]
  },
  {
   "cell_type": "markdown",
   "id": "studied-cheat",
   "metadata": {},
   "source": [
    "# Reading the corpus"
   ]
  },
  {
   "cell_type": "code",
   "execution_count": 2,
   "id": "outside-glass",
   "metadata": {},
   "outputs": [],
   "source": [
    "df = pd.read_csv('corpus.csv')"
   ]
  },
  {
   "cell_type": "code",
   "execution_count": 3,
   "id": "baking-setting",
   "metadata": {},
   "outputs": [
    {
     "data": {
      "text/html": [
       "<div>\n",
       "<style scoped>\n",
       "    .dataframe tbody tr th:only-of-type {\n",
       "        vertical-align: middle;\n",
       "    }\n",
       "\n",
       "    .dataframe tbody tr th {\n",
       "        vertical-align: top;\n",
       "    }\n",
       "\n",
       "    .dataframe thead th {\n",
       "        text-align: right;\n",
       "    }\n",
       "</style>\n",
       "<table border=\"1\" class=\"dataframe\">\n",
       "  <thead>\n",
       "    <tr style=\"text-align: right;\">\n",
       "      <th></th>\n",
       "      <th>author</th>\n",
       "      <th>title</th>\n",
       "      <th>translation</th>\n",
       "      <th>label</th>\n",
       "    </tr>\n",
       "  </thead>\n",
       "  <tbody>\n",
       "    <tr>\n",
       "      <th>928</th>\n",
       "      <td>TVR</td>\n",
       "      <td>Rezultate parțiale BEC, după centralizarea a 9...</td>\n",
       "      <td>PSD a obținut la alegerile parlamentare  29,64...</td>\n",
       "      <td>1</td>\n",
       "    </tr>\n",
       "    <tr>\n",
       "      <th>920</th>\n",
       "      <td>TVR</td>\n",
       "      <td>Marcel Ciolacu: Voi avea o discuție cu colegii...</td>\n",
       "      <td>Președintele PSD, Marcel Ciolacu, a declarat c...</td>\n",
       "      <td>1</td>\n",
       "    </tr>\n",
       "    <tr>\n",
       "      <th>430</th>\n",
       "      <td>Ionut</td>\n",
       "      <td>Cel mai norocos oltean. A găsit o sarma cu pat...</td>\n",
       "      <td>Chiar dacă a găsit sarmaua cu patru foi, oltea...</td>\n",
       "      <td>0</td>\n",
       "    </tr>\n",
       "    <tr>\n",
       "      <th>700</th>\n",
       "      <td>TVR</td>\n",
       "      <td>Bugetul, dezbătut intens în comisiile de speci...</td>\n",
       "      <td>ACTUALIZARE Bugetul Casei Naţionale de Asigură...</td>\n",
       "      <td>1</td>\n",
       "    </tr>\n",
       "    <tr>\n",
       "      <th>342</th>\n",
       "      <td>Eftimie</td>\n",
       "      <td>Fum alb la negocieri. Ludovic Orban fumează ia...</td>\n",
       "      <td>„Doar un fum să mai trag”, a declarat liderul ...</td>\n",
       "      <td>0</td>\n",
       "    </tr>\n",
       "  </tbody>\n",
       "</table>\n",
       "</div>"
      ],
      "text/plain": [
       "      author                                              title  \\\n",
       "928      TVR  Rezultate parțiale BEC, după centralizarea a 9...   \n",
       "920      TVR  Marcel Ciolacu: Voi avea o discuție cu colegii...   \n",
       "430    Ionut  Cel mai norocos oltean. A găsit o sarma cu pat...   \n",
       "700      TVR  Bugetul, dezbătut intens în comisiile de speci...   \n",
       "342  Eftimie  Fum alb la negocieri. Ludovic Orban fumează ia...   \n",
       "\n",
       "                                           translation  label  \n",
       "928  PSD a obținut la alegerile parlamentare  29,64...      1  \n",
       "920  Președintele PSD, Marcel Ciolacu, a declarat c...      1  \n",
       "430  Chiar dacă a găsit sarmaua cu patru foi, oltea...      0  \n",
       "700  ACTUALIZARE Bugetul Casei Naţionale de Asigură...      1  \n",
       "342  „Doar un fum să mai trag”, a declarat liderul ...      0  "
      ]
     },
     "execution_count": 3,
     "metadata": {},
     "output_type": "execute_result"
    }
   ],
   "source": [
    "df.sample(5)"
   ]
  },
  {
   "cell_type": "markdown",
   "id": "surprising-bonus",
   "metadata": {},
   "source": [
    "# Data preparation"
   ]
  },
  {
   "cell_type": "markdown",
   "id": "minor-berlin",
   "metadata": {},
   "source": [
    "### Lemmatization\n",
    "_Source: http://nlptools.info.uaic.ro/WebPosRo/_"
   ]
  },
  {
   "cell_type": "code",
   "execution_count": 4,
   "id": "disturbed-monitoring",
   "metadata": {},
   "outputs": [],
   "source": [
    "wsdl = 'http://nlptools.info.uaic.ro/WebPosRo/PosTaggerRoWS?wsdl'"
   ]
  },
  {
   "cell_type": "code",
   "execution_count": 5,
   "id": "thermal-throw",
   "metadata": {},
   "outputs": [],
   "source": [
    "client = zeep.Client(wsdl=wsdl)"
   ]
  },
  {
   "cell_type": "markdown",
   "id": "impressive-element",
   "metadata": {},
   "source": [
    "#### Transforming each article using the POS tagger,tokenizing and filtering the stopwords at the same time"
   ]
  },
  {
   "cell_type": "code",
   "execution_count": null,
   "id": "mighty-coordinate",
   "metadata": {},
   "outputs": [],
   "source": [
    "lemmatized_articles_xml=[]"
   ]
  },
  {
   "cell_type": "code",
   "execution_count": 6,
   "id": "structural-triumph",
   "metadata": {},
   "outputs": [],
   "source": [
    "for article in df['translation']:\n",
    "     lemmatized_articles_xml.append(client.service.parseSentence_XML(article))\n",
    "    "
   ]
  },
  {
   "cell_type": "code",
   "execution_count": 10,
   "id": "maritime-certification",
   "metadata": {},
   "outputs": [],
   "source": [
    "# # Saving the articles to save execution time\n",
    "# for article in lemmatized_articles_xml:\n",
    "#     with open('lemmatized_articles','a+') as f:\n",
    "#         f.write(article)\n",
    "#         f.write('\\n')"
   ]
  },
  {
   "cell_type": "code",
   "execution_count": 62,
   "id": "color-pursuit",
   "metadata": {},
   "outputs": [],
   "source": [
    "stopwords = stp.words('romanian')\n",
    "lemmatized_articles_clean=[]\n",
    "for article in lemmatized_articles_xml:\n",
    "    article = article.split('\\n')\n",
    "    lemmas = []\n",
    "    for line in article:\n",
    "        found = re.search('.*LEMMA=\"([A-Za-zăâîșț1-9]*)\".*', line)\n",
    "        if found:\n",
    "            word = found.group(1)\n",
    "            if word not in stopwords:\n",
    "                lemmas.append(word)\n",
    "    lemmatized_articles_clean.append(lemmas)"
   ]
  },
  {
   "cell_type": "markdown",
   "id": "latin-graduation",
   "metadata": {},
   "source": [
    "#### Adding the lemmatized articles to the corpus"
   ]
  },
  {
   "cell_type": "code",
   "execution_count": 63,
   "id": "composite-circle",
   "metadata": {},
   "outputs": [],
   "source": [
    "df['lemmatized_articles'] = lemmatized_articles_clean"
   ]
  },
  {
   "cell_type": "code",
   "execution_count": 67,
   "id": "remarkable-strip",
   "metadata": {},
   "outputs": [
    {
     "data": {
      "text/html": [
       "<div>\n",
       "<style scoped>\n",
       "    .dataframe tbody tr th:only-of-type {\n",
       "        vertical-align: middle;\n",
       "    }\n",
       "\n",
       "    .dataframe tbody tr th {\n",
       "        vertical-align: top;\n",
       "    }\n",
       "\n",
       "    .dataframe thead th {\n",
       "        text-align: right;\n",
       "    }\n",
       "</style>\n",
       "<table border=\"1\" class=\"dataframe\">\n",
       "  <thead>\n",
       "    <tr style=\"text-align: right;\">\n",
       "      <th></th>\n",
       "      <th>author</th>\n",
       "      <th>title</th>\n",
       "      <th>translation</th>\n",
       "      <th>label</th>\n",
       "      <th>lemmatized_articles</th>\n",
       "    </tr>\n",
       "  </thead>\n",
       "  <tbody>\n",
       "    <tr>\n",
       "      <th>838</th>\n",
       "      <td>TVR</td>\n",
       "      <td>Cum își petrec politicienii Crăciunul</td>\n",
       "      <td>Masa trebuie să fie plină de bucate speciale î...</td>\n",
       "      <td>1</td>\n",
       "      <td>[masă, trebui, plin, bucată, special, Cristina...</td>\n",
       "    </tr>\n",
       "    <tr>\n",
       "      <th>542</th>\n",
       "      <td>Vasile</td>\n",
       "      <td>Testul COVID făcut de naționala de fotbal arat...</td>\n",
       "      <td>„COVID n-am găsit, dar până la urmă, mai conte...</td>\n",
       "      <td>0</td>\n",
       "      <td>[COVID, găsi, conta, adăuga, medic, testa, spo...</td>\n",
       "    </tr>\n",
       "    <tr>\n",
       "      <th>742</th>\n",
       "      <td>TVR</td>\n",
       "      <td>Diana Șoșoacă, fără sprijinul partidului AUR</td>\n",
       "      <td>DAN TANASĂ, deputat AUR: \"M-a deranjat acel ep...</td>\n",
       "      <td>1</td>\n",
       "      <td>[dan, tanasă, deputat, aur, deranja, episod, d...</td>\n",
       "    </tr>\n",
       "    <tr>\n",
       "      <th>141</th>\n",
       "      <td>Calin</td>\n",
       "      <td>Ce ghiolban! O specie de țânțar râgâie după ce...</td>\n",
       "      <td>”Nu sunt adeptul soluțiilor extreme, dar aceas...</td>\n",
       "      <td>0</td>\n",
       "      <td>[adept, soluție, extrem, specie, țânțar, trebu...</td>\n",
       "    </tr>\n",
       "    <tr>\n",
       "      <th>751</th>\n",
       "      <td>TVR</td>\n",
       "      <td>Orban: Nu s-a luat nicio decizie legată de spo...</td>\n",
       "      <td>El a adăugat că studenţii vor avea în continua...</td>\n",
       "      <td>1</td>\n",
       "      <td>[adăuga, student, vrea, gratuitate, călătorie,...</td>\n",
       "    </tr>\n",
       "  </tbody>\n",
       "</table>\n",
       "</div>"
      ],
      "text/plain": [
       "     author                                              title  \\\n",
       "838     TVR              Cum își petrec politicienii Crăciunul   \n",
       "542  Vasile  Testul COVID făcut de naționala de fotbal arat...   \n",
       "742     TVR       Diana Șoșoacă, fără sprijinul partidului AUR   \n",
       "141   Calin  Ce ghiolban! O specie de țânțar râgâie după ce...   \n",
       "751     TVR  Orban: Nu s-a luat nicio decizie legată de spo...   \n",
       "\n",
       "                                           translation  label  \\\n",
       "838  Masa trebuie să fie plină de bucate speciale î...      1   \n",
       "542  „COVID n-am găsit, dar până la urmă, mai conte...      0   \n",
       "742  DAN TANASĂ, deputat AUR: \"M-a deranjat acel ep...      1   \n",
       "141  ”Nu sunt adeptul soluțiilor extreme, dar aceas...      0   \n",
       "751  El a adăugat că studenţii vor avea în continua...      1   \n",
       "\n",
       "                                   lemmatized_articles  \n",
       "838  [masă, trebui, plin, bucată, special, Cristina...  \n",
       "542  [COVID, găsi, conta, adăuga, medic, testa, spo...  \n",
       "742  [dan, tanasă, deputat, aur, deranja, episod, d...  \n",
       "141  [adept, soluție, extrem, specie, țânțar, trebu...  \n",
       "751  [adăuga, student, vrea, gratuitate, călătorie,...  "
      ]
     },
     "execution_count": 67,
     "metadata": {},
     "output_type": "execute_result"
    }
   ],
   "source": [
    "df.sample(5)"
   ]
  },
  {
   "cell_type": "markdown",
   "id": "annual-journalism",
   "metadata": {},
   "source": [
    "#### Stemming"
   ]
  },
  {
   "cell_type": "code",
   "execution_count": 73,
   "id": "brutal-patio",
   "metadata": {},
   "outputs": [],
   "source": [
    "stemmed_articles = []\n",
    "stemmer = snowball.SnowballStemmer('romanian')\n",
    "\n",
    "for article in df['lemmatized_articles']:\n",
    "    stemmed_words =[]\n",
    "    for word in article:\n",
    "        stemmed_words.append(stemmer.stem(word))\n",
    "    stemmed_articles.append(stemmed_words)"
   ]
  },
  {
   "cell_type": "markdown",
   "id": "treated-tennessee",
   "metadata": {},
   "source": [
    "#### Adding the stemmed articles to the corpus"
   ]
  },
  {
   "cell_type": "code",
   "execution_count": 75,
   "id": "accepting-collapse",
   "metadata": {},
   "outputs": [],
   "source": [
    "df['stemmed_articles']=stemmed_articles"
   ]
  },
  {
   "cell_type": "code",
   "execution_count": 76,
   "id": "german-weight",
   "metadata": {},
   "outputs": [
    {
     "data": {
      "text/html": [
       "<div>\n",
       "<style scoped>\n",
       "    .dataframe tbody tr th:only-of-type {\n",
       "        vertical-align: middle;\n",
       "    }\n",
       "\n",
       "    .dataframe tbody tr th {\n",
       "        vertical-align: top;\n",
       "    }\n",
       "\n",
       "    .dataframe thead th {\n",
       "        text-align: right;\n",
       "    }\n",
       "</style>\n",
       "<table border=\"1\" class=\"dataframe\">\n",
       "  <thead>\n",
       "    <tr style=\"text-align: right;\">\n",
       "      <th></th>\n",
       "      <th>author</th>\n",
       "      <th>title</th>\n",
       "      <th>translation</th>\n",
       "      <th>label</th>\n",
       "      <th>lemmatized_articles</th>\n",
       "      <th>stemmed_articles</th>\n",
       "    </tr>\n",
       "  </thead>\n",
       "  <tbody>\n",
       "    <tr>\n",
       "      <th>524</th>\n",
       "      <td>TNR</td>\n",
       "      <td>Președinte jucător! Iohannis s-a dus în locul ...</td>\n",
       "      <td>„N-am mai fost în Dubai de ani buni, darămite ...</td>\n",
       "      <td>0</td>\n",
       "      <td>[Dubai, an, bun, darămite, juca, tenis, recuno...</td>\n",
       "      <td>[duba, an, bun, darăm, juc, tenis, recunoașt, ...</td>\n",
       "    </tr>\n",
       "    <tr>\n",
       "      <th>290</th>\n",
       "      <td>Calin</td>\n",
       "      <td>Marian Godină, în carantină pentru două săptăm...</td>\n",
       "      <td>Marian Godină spune că va profita de perioada ...</td>\n",
       "      <td>0</td>\n",
       "      <td>[Marian, godină, spune, vrea, profita, perioad...</td>\n",
       "      <td>[marian, godin, spun, vre, profit, perioad, sc...</td>\n",
       "    </tr>\n",
       "    <tr>\n",
       "      <th>874</th>\n",
       "      <td>TVR</td>\n",
       "      <td>Ciolacu, scrisoare către Iohannis: Vă cer să f...</td>\n",
       "      <td>El spune că este „un abuz intolerabil comis de...</td>\n",
       "      <td>1</td>\n",
       "      <td>[spune, abuz, intolerabil, comis, partid, sanc...</td>\n",
       "      <td>[spun, abuz, intoler, comis, partid, sancțion,...</td>\n",
       "    </tr>\n",
       "    <tr>\n",
       "      <th>685</th>\n",
       "      <td>TVR</td>\n",
       "      <td>Președintele Iohannis le-a transmis o urare de...</td>\n",
       "      <td>Şeful statului le-a transmis o urare doamnelor...</td>\n",
       "      <td>1</td>\n",
       "      <td>[șef, stat, transmite, urare, doamnă, aștepta,...</td>\n",
       "      <td>[șef, stat, transmit, urar, doamn, aștept, ieș...</td>\n",
       "    </tr>\n",
       "    <tr>\n",
       "      <th>816</th>\n",
       "      <td>TVR</td>\n",
       "      <td>Costel Alexe, așteptat la DNA. Fostul demnitar...</td>\n",
       "      <td>Fostul ministru al mediului Costel Alexe e acu...</td>\n",
       "      <td>1</td>\n",
       "      <td>[ministru, mediu, costel, alexe, acuzat, doamn...</td>\n",
       "      <td>[ministru, mediu, costel, alex, acuz, doamn, p...</td>\n",
       "    </tr>\n",
       "  </tbody>\n",
       "</table>\n",
       "</div>"
      ],
      "text/plain": [
       "    author                                              title  \\\n",
       "524    TNR  Președinte jucător! Iohannis s-a dus în locul ...   \n",
       "290  Calin  Marian Godină, în carantină pentru două săptăm...   \n",
       "874    TVR  Ciolacu, scrisoare către Iohannis: Vă cer să f...   \n",
       "685    TVR  Președintele Iohannis le-a transmis o urare de...   \n",
       "816    TVR  Costel Alexe, așteptat la DNA. Fostul demnitar...   \n",
       "\n",
       "                                           translation  label  \\\n",
       "524  „N-am mai fost în Dubai de ani buni, darămite ...      0   \n",
       "290  Marian Godină spune că va profita de perioada ...      0   \n",
       "874  El spune că este „un abuz intolerabil comis de...      1   \n",
       "685  Şeful statului le-a transmis o urare doamnelor...      1   \n",
       "816  Fostul ministru al mediului Costel Alexe e acu...      1   \n",
       "\n",
       "                                   lemmatized_articles  \\\n",
       "524  [Dubai, an, bun, darămite, juca, tenis, recuno...   \n",
       "290  [Marian, godină, spune, vrea, profita, perioad...   \n",
       "874  [spune, abuz, intolerabil, comis, partid, sanc...   \n",
       "685  [șef, stat, transmite, urare, doamnă, aștepta,...   \n",
       "816  [ministru, mediu, costel, alexe, acuzat, doamn...   \n",
       "\n",
       "                                      stemmed_articles  \n",
       "524  [duba, an, bun, darăm, juc, tenis, recunoașt, ...  \n",
       "290  [marian, godin, spun, vre, profit, perioad, sc...  \n",
       "874  [spun, abuz, intoler, comis, partid, sancțion,...  \n",
       "685  [șef, stat, transmit, urar, doamn, aștept, ieș...  \n",
       "816  [ministru, mediu, costel, alex, acuz, doamn, p...  "
      ]
     },
     "execution_count": 76,
     "metadata": {},
     "output_type": "execute_result"
    }
   ],
   "source": [
    "df.sample(5)"
   ]
  },
  {
   "cell_type": "code",
   "execution_count": null,
   "id": "naval-young",
   "metadata": {},
   "outputs": [],
   "source": []
  }
 ],
 "metadata": {
  "kernelspec": {
   "display_name": "Python 3",
   "language": "python",
   "name": "python3"
  },
  "language_info": {
   "codemirror_mode": {
    "name": "ipython",
    "version": 3
   },
   "file_extension": ".py",
   "mimetype": "text/x-python",
   "name": "python",
   "nbconvert_exporter": "python",
   "pygments_lexer": "ipython3",
   "version": "3.9.3"
  }
 },
 "nbformat": 4,
 "nbformat_minor": 5
}
