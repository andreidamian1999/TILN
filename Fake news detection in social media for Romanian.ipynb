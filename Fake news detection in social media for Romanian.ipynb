{
 "cells": [
  {
   "cell_type": "markdown",
   "id": "increased-thesaurus",
   "metadata": {},
   "source": [
    "# Importing the necessary modules"
   ]
  },
  {
   "cell_type": "code",
   "execution_count": 14,
   "id": "molecular-cherry",
   "metadata": {},
   "outputs": [],
   "source": [
    "# Utilitaries\n",
    "from csv import reader\n",
    "import re\n",
    "import pandas as pd\n",
    "import zeep\n",
    "# Text manipulation\n",
    "\n",
    "# Data preparation\n",
    "\n",
    "# Machine learning tools\n",
    "from sklearn.model_selection import train_test_split\n",
    "# Machine learning classificators"
   ]
  },
  {
   "cell_type": "markdown",
   "id": "tutorial-gateway",
   "metadata": {},
   "source": [
    "# Reading the corpus"
   ]
  },
  {
   "cell_type": "code",
   "execution_count": 2,
   "id": "broadband-mechanics",
   "metadata": {},
   "outputs": [],
   "source": [
    "df = pd.read_csv('corpus.csv')"
   ]
  },
  {
   "cell_type": "code",
   "execution_count": 3,
   "id": "promising-brazilian",
   "metadata": {},
   "outputs": [
    {
     "data": {
      "text/html": [
       "<div>\n",
       "<style scoped>\n",
       "    .dataframe tbody tr th:only-of-type {\n",
       "        vertical-align: middle;\n",
       "    }\n",
       "\n",
       "    .dataframe tbody tr th {\n",
       "        vertical-align: top;\n",
       "    }\n",
       "\n",
       "    .dataframe thead th {\n",
       "        text-align: right;\n",
       "    }\n",
       "</style>\n",
       "<table border=\"1\" class=\"dataframe\">\n",
       "  <thead>\n",
       "    <tr style=\"text-align: right;\">\n",
       "      <th></th>\n",
       "      <th>author</th>\n",
       "      <th>title</th>\n",
       "      <th>translation</th>\n",
       "      <th>label</th>\n",
       "    </tr>\n",
       "  </thead>\n",
       "  <tbody>\n",
       "    <tr>\n",
       "      <th>928</th>\n",
       "      <td>TVR</td>\n",
       "      <td>Rezultate parțiale BEC, după centralizarea a 9...</td>\n",
       "      <td>PSD a obținut la alegerile parlamentare  29,64...</td>\n",
       "      <td>1</td>\n",
       "    </tr>\n",
       "    <tr>\n",
       "      <th>920</th>\n",
       "      <td>TVR</td>\n",
       "      <td>Marcel Ciolacu: Voi avea o discuție cu colegii...</td>\n",
       "      <td>Președintele PSD, Marcel Ciolacu, a declarat c...</td>\n",
       "      <td>1</td>\n",
       "    </tr>\n",
       "    <tr>\n",
       "      <th>430</th>\n",
       "      <td>Ionut</td>\n",
       "      <td>Cel mai norocos oltean. A găsit o sarma cu pat...</td>\n",
       "      <td>Chiar dacă a găsit sarmaua cu patru foi, oltea...</td>\n",
       "      <td>0</td>\n",
       "    </tr>\n",
       "    <tr>\n",
       "      <th>700</th>\n",
       "      <td>TVR</td>\n",
       "      <td>Bugetul, dezbătut intens în comisiile de speci...</td>\n",
       "      <td>ACTUALIZARE Bugetul Casei Naţionale de Asigură...</td>\n",
       "      <td>1</td>\n",
       "    </tr>\n",
       "    <tr>\n",
       "      <th>342</th>\n",
       "      <td>Eftimie</td>\n",
       "      <td>Fum alb la negocieri. Ludovic Orban fumează ia...</td>\n",
       "      <td>„Doar un fum să mai trag”, a declarat liderul ...</td>\n",
       "      <td>0</td>\n",
       "    </tr>\n",
       "  </tbody>\n",
       "</table>\n",
       "</div>"
      ],
      "text/plain": [
       "      author                                              title  \\\n",
       "928      TVR  Rezultate parțiale BEC, după centralizarea a 9...   \n",
       "920      TVR  Marcel Ciolacu: Voi avea o discuție cu colegii...   \n",
       "430    Ionut  Cel mai norocos oltean. A găsit o sarma cu pat...   \n",
       "700      TVR  Bugetul, dezbătut intens în comisiile de speci...   \n",
       "342  Eftimie  Fum alb la negocieri. Ludovic Orban fumează ia...   \n",
       "\n",
       "                                           translation  label  \n",
       "928  PSD a obținut la alegerile parlamentare  29,64...      1  \n",
       "920  Președintele PSD, Marcel Ciolacu, a declarat c...      1  \n",
       "430  Chiar dacă a găsit sarmaua cu patru foi, oltea...      0  \n",
       "700  ACTUALIZARE Bugetul Casei Naţionale de Asigură...      1  \n",
       "342  „Doar un fum să mai trag”, a declarat liderul ...      0  "
      ]
     },
     "execution_count": 3,
     "metadata": {},
     "output_type": "execute_result"
    }
   ],
   "source": [
    "df.sample(5)"
   ]
  },
  {
   "cell_type": "markdown",
   "id": "placed-mention",
   "metadata": {},
   "source": [
    "# Data preparation"
   ]
  },
  {
   "cell_type": "markdown",
   "id": "thermal-idaho",
   "metadata": {},
   "source": [
    "### Lemmatization\n",
    "_Source: http://nlptools.info.uaic.ro/WebPosRo/_"
   ]
  },
  {
   "cell_type": "code",
   "execution_count": 4,
   "id": "champion-cooperation",
   "metadata": {},
   "outputs": [],
   "source": [
    "wsdl = 'http://nlptools.info.uaic.ro/WebPosRo/PosTaggerRoWS?wsdl'"
   ]
  },
  {
   "cell_type": "code",
   "execution_count": 5,
   "id": "casual-miami",
   "metadata": {},
   "outputs": [],
   "source": [
    "client = zeep.Client(wsdl=wsdl)"
   ]
  },
  {
   "cell_type": "markdown",
   "id": "valued-orientation",
   "metadata": {},
   "source": [
    "### Transforming each article using the POS tagger"
   ]
  },
  {
   "cell_type": "code",
   "execution_count": null,
   "id": "brutal-counter",
   "metadata": {},
   "outputs": [],
   "source": [
    "lemmatized_articles_xml=[]"
   ]
  },
  {
   "cell_type": "code",
   "execution_count": 6,
   "id": "billion-spanking",
   "metadata": {},
   "outputs": [],
   "source": [
    "# for article in df['translation']:\n",
    "#      lemmatized_articles_xml.append(client.service.parseSentence_XML(article))\n",
    "    "
   ]
  },
  {
   "cell_type": "code",
   "execution_count": 10,
   "id": "monetary-brass",
   "metadata": {},
   "outputs": [],
   "source": [
    "# # Saving the articles to save execution time\n",
    "# for article in lemmatized_articles_xml:\n",
    "#     with open('lemmatized_articles','a+') as f:\n",
    "#         f.write(article)\n",
    "#         f.write('\\n')"
   ]
  },
  {
   "cell_type": "code",
   "execution_count": 17,
   "id": "identified-clearance",
   "metadata": {},
   "outputs": [
    {
     "name": "stdout",
     "output_type": "stream",
     "text": [
      "['dar']\n"
     ]
    }
   ],
   "source": [
    "for article in lemmatized_articles_xml:\n",
    "    arr = article.split('\\n')\n",
    "    arr_lemmas = []\n",
    "    final_tokenized = []\n",
    "    index = 0\n",
    "    for line in arr:\n",
    "        found = re.search('.*(LEMMA=\"[A-Za-zăâîșț1-9]*\").*', line)\n",
    "        if found:\n",
    "            res = found.group(1)\n",
    "            arr_lemmas.append(res)\n",
    "    for lemma in arr_lemmas:\n",
    "        found = re.search('LEMMA=\"([A-Za-zăâîșț1-9]*)\".*', lemma)\n",
    "        if found:\n",
    "            res = found.group(1)\n",
    "            final_tokenized.append(res)\n",
    "            index = index + 1\n",
    "            break\n",
    "    print(final_tokenized)\n",
    "    break"
   ]
  },
  {
   "cell_type": "code",
   "execution_count": null,
   "id": "adapted-timothy",
   "metadata": {},
   "outputs": [],
   "source": []
  }
 ],
 "metadata": {
  "kernelspec": {
   "display_name": "Python 3",
   "language": "python",
   "name": "python3"
  },
  "language_info": {
   "codemirror_mode": {
    "name": "ipython",
    "version": 3
   },
   "file_extension": ".py",
   "mimetype": "text/x-python",
   "name": "python",
   "nbconvert_exporter": "python",
   "pygments_lexer": "ipython3",
   "version": "3.9.3"
  }
 },
 "nbformat": 4,
 "nbformat_minor": 5
}
